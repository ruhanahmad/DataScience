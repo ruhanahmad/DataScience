{
 "cells": [
  {
   "cell_type": "markdown",
   "metadata": {},
   "source": [
    "### Paired TTEst"
   ]
  },
  {
   "cell_type": "code",
   "execution_count": 3,
   "metadata": {},
   "outputs": [
    {
     "data": {
      "text/plain": [
       "Ttest_relResult(statistic=2.584921310565987, pvalue=0.029457853822895275)"
      ]
     },
     "execution_count": 3,
     "metadata": {},
     "output_type": "execute_result"
    }
   ],
   "source": [
    "\n",
    "# Importing library\n",
    "import scipy.stats as stats\n",
    "  \n",
    "# pre holds the mileage before \n",
    "# applying the different engine oil\n",
    "pre = [30, 31, 34, 40, 36, 35,\n",
    "       34, 30, 28, 29]\n",
    "  \n",
    "# post holds the mileage after \n",
    "# applying the different engine oil\n",
    "post = [30, 31, 32, 38, 32, 31,\n",
    "        32, 29, 28, 30]\n",
    "  \n",
    "# Performing the paired sample t-test\n",
    "stats.ttest_rel(pre, post)\n"
   ]
  },
  {
   "cell_type": "markdown",
   "metadata": {},
   "source": [
    "#### The test statistic comes out to be equal to 2.584 and the corresponding two-sided p-value is 0.029.\n",
    "\n",
    "Step 3: Analyzing the output.\n",
    "\n",
    "The paired samples t-test follows the null and alternative hypotheses:\n",
    "\n",
    "H0: It signifies that the mean pre-test and post-test scores are equal\n",
    "HA: It signifies that the mean pre-test and post-test scores are not equal\n",
    "As the p-value comes out to be equal to 0.029 which is less than 0.05 hence we reject the null hypothesis. So, we have enough proof to claim that the true mean test score is different for cars before and after applying the different engine oil."
   ]
  },
  {
   "cell_type": "code",
   "execution_count": null,
   "metadata": {},
   "outputs": [],
   "source": []
  }
 ],
 "metadata": {
  "kernelspec": {
   "display_name": "Python 3.9.12 ('base')",
   "language": "python",
   "name": "python3"
  },
  "language_info": {
   "codemirror_mode": {
    "name": "ipython",
    "version": 3
   },
   "file_extension": ".py",
   "mimetype": "text/x-python",
   "name": "python",
   "nbconvert_exporter": "python",
   "pygments_lexer": "ipython3",
   "version": "3.9.12"
  },
  "orig_nbformat": 4,
  "vscode": {
   "interpreter": {
    "hash": "8744c0a46b53967583aeb20bbd4a7c51e28cea940260bbd3c64e499da934cd88"
   }
  }
 },
 "nbformat": 4,
 "nbformat_minor": 2
}
