{
  "cells": [
    {
      "cell_type": "markdown",
      "metadata": {
        "colab_type": "text",
        "id": "view-in-github"
      },
      "source": [
        "<a href=\"https://colab.research.google.com/github/ruhanahmad/DataScience/blob/master/WebScraping.ipynb\" target=\"_parent\"><img src=\"https://colab.research.google.com/assets/colab-badge.svg\" alt=\"Open In Colab\"/></a>"
      ]
    },
    {
      "cell_type": "code",
      "execution_count": null,
      "metadata": {
        "colab": {
          "base_uri": "https://localhost:8080/"
        },
        "id": "JyM8JgBfOxwR",
        "outputId": "49a8aeeb-5562-471f-cafd-78f60b6e558c"
      },
      "outputs": [
        {
          "name": "stdout",
          "output_type": "stream",
          "text": [
            "Looking in indexes: https://pypi.org/simple, https://us-python.pkg.dev/colab-wheels/public/simple/\n",
            "Collecting beautifulsoup\n",
            "  Downloading BeautifulSoup-3.2.2.tar.gz (32 kB)\n",
            "\u001b[33mWARNING: Discarding https://files.pythonhosted.org/packages/40/f2/6c9f2f3e696ee6a1fb0e4d7850617e224ed2b0b1e872110abffeca2a09d4/BeautifulSoup-3.2.2.tar.gz#sha256=a04169602bff6e3138b1259dbbf491f5a27f9499dea9a8fbafd48843f9d89970 (from https://pypi.org/simple/beautifulsoup/). Command errored out with exit status 1: python setup.py egg_info Check the logs for full command output.\u001b[0m\n",
            "  Downloading BeautifulSoup-3.2.1.tar.gz (31 kB)\n",
            "\u001b[33mWARNING: Discarding https://files.pythonhosted.org/packages/1e/ee/295988deca1a5a7accd783d0dfe14524867e31abb05b6c0eeceee49c759d/BeautifulSoup-3.2.1.tar.gz#sha256=6a8cb4401111e011b579c8c52a51cdab970041cc543814bbd9577a4529fe1cdb (from https://pypi.org/simple/beautifulsoup/). Command errored out with exit status 1: python setup.py egg_info Check the logs for full command output.\u001b[0m\n",
            "  Downloading BeautifulSoup-3.2.0.tar.gz (31 kB)\n",
            "\u001b[33mWARNING: Discarding https://files.pythonhosted.org/packages/33/fe/15326560884f20d792d3ffc7fe8f639aab88647c9d46509a240d9bfbb6b1/BeautifulSoup-3.2.0.tar.gz#sha256=0dc52d07516c1665c9dd9f0a390a7a054bfb7b147a50b2866fb116b8909dfd37 (from https://pypi.org/simple/beautifulsoup/). Command errored out with exit status 1: python setup.py egg_info Check the logs for full command output.\u001b[0m\n",
            "\u001b[31mERROR: Could not find a version that satisfies the requirement beautifulsoup (from versions: 3.2.0, 3.2.1, 3.2.2)\u001b[0m\n",
            "\u001b[31mERROR: No matching distribution found for beautifulsoup\u001b[0m\n"
          ]
        }
      ],
      "source": [
        "!pip install beautifulsoup\n"
      ]
    },
    {
      "cell_type": "code",
      "execution_count": 33,
      "metadata": {
        "id": "8sRpWqX4O7VV"
      },
      "outputs": [],
      "source": [
        "import requests\n",
        "from bs4 import BeautifulSoup\n",
        "\n",
        "def get_topics_page():\n",
        "    # TODO - add comments\n",
        "    topics_url = 'https://github.com/topics'\n",
        "    response = requests.get(topics_url)\n",
        "    if response.status_code != 200:\n",
        "        raise Exception('Failed to load page {}'.format(topics_url))\n",
        "    doc = BeautifulSoup(response.text, 'html.parser')\n",
        "    return doc"
      ]
    },
    {
      "cell_type": "code",
      "execution_count": 34,
      "metadata": {
        "id": "NsIMamQ3SvEA"
      },
      "outputs": [],
      "source": [
        "import requests"
      ]
    },
    {
      "cell_type": "code",
      "execution_count": 35,
      "metadata": {
        "id": "euqtmhyzSrTx"
      },
      "outputs": [],
      "source": [
        "page_content = requests.get(\"https://github.com/topics/\")"
      ]
    },
    {
      "cell_type": "code",
      "execution_count": 36,
      "metadata": {
        "colab": {
          "base_uri": "https://localhost:8080/"
        },
        "id": "z1FgELyFTMv0",
        "outputId": "9505336f-6bb0-46be-8221-5db072cc5b26"
      },
      "outputs": [
        {
          "data": {
            "text/plain": [
              "200"
            ]
          },
          "execution_count": 36,
          "metadata": {},
          "output_type": "execute_result"
        }
      ],
      "source": [
        "page_content.status_code"
      ]
    },
    {
      "cell_type": "code",
      "execution_count": 37,
      "metadata": {
        "id": "vvCs4ppCUJT8"
      },
      "outputs": [],
      "source": [
        "page_text = page_content.text"
      ]
    },
    {
      "cell_type": "code",
      "execution_count": 38,
      "metadata": {
        "id": "5dBi7ynbQA3P"
      },
      "outputs": [],
      "source": [
        "doc = BeautifulSoup(page_text,\"html.parser\")"
      ]
    },
    {
      "cell_type": "code",
      "execution_count": 39,
      "metadata": {
        "id": "XSB3Av-HTWwa"
      },
      "outputs": [],
      "source": [
        "p_tags = doc.find_all('p',{'class':'f3 lh-condensed mb-0 mt-1 Link--primary'})"
      ]
    },
    {
      "cell_type": "code",
      "execution_count": 40,
      "metadata": {
        "id": "6LBzlWAL2Pw4"
      },
      "outputs": [],
      "source": [
        " p_tags_links = doc.find_all('a',{'class':'no-underline flex-grow-0'})  "
      ]
    },
    {
      "cell_type": "code",
      "execution_count": 43,
      "metadata": {
        "id": "5AX0gUmDVGDp"
      },
      "outputs": [],
      "source": [
        "p_tags_description = doc.find_all('p',{'class':'f5 color-fg-muted mb-0 mt-1'})"
      ]
    },
    {
      "cell_type": "code",
      "execution_count": 45,
      "metadata": {
        "id": "r1MeX4zAVfmN"
      },
      "outputs": [],
      "source": [
        "p_tags_href = doc.find_all('a',{'class':'no-underline'})"
      ]
    },
    {
      "cell_type": "code",
      "execution_count": 46,
      "metadata": {
        "id": "NZNRIUn_lha5"
      },
      "outputs": [],
      "source": [
        "p_tags_href_new = doc.find_all('a',{'class':'no-underline flex-1 d-flex flex-column'})       "
      ]
    },
    {
      "cell_type": "code",
      "execution_count": 48,
      "metadata": {
        "id": "u_GQ0tsWYr-m"
      },
      "outputs": [],
      "source": [
        " one_tag=p_tags_href[1]['href']"
      ]
    },
    {
      "cell_type": "code",
      "execution_count": 49,
      "metadata": {
        "id": "KgSpu_y2Z4QA"
      },
      "outputs": [],
      "source": [
        "web_link = \"https://github.com/topics/\" + one_tag"
      ]
    },
    {
      "cell_type": "code",
      "execution_count": 50,
      "metadata": {
        "colab": {
          "base_uri": "https://localhost:8080/",
          "height": 35
        },
        "id": "Hwg_HAM0aHPi",
        "outputId": "e0037fef-1d80-4cee-b48d-63207bd709d3"
      },
      "outputs": [
        {
          "data": {
            "application/vnd.google.colaboratory.intrinsic+json": {
              "type": "string"
            },
            "text/plain": [
              "'https://github.com/topics//features/actions'"
            ]
          },
          "execution_count": 50,
          "metadata": {},
          "output_type": "execute_result"
        }
      ],
      "source": [
        "web_link"
      ]
    },
    {
      "cell_type": "code",
      "execution_count": 51,
      "metadata": {
        "colab": {
          "base_uri": "https://localhost:8080/"
        },
        "id": "PnWTIspsYyhO",
        "outputId": "e57dc016-215d-4af9-ea00-79a48b991511"
      },
      "outputs": [
        {
          "name": "stdout",
          "output_type": "stream",
          "text": [
            "['Sign\\xa0up', 'Actions\\n        Automate any workflow', 'Packages\\n        Host and manage packages', 'Security\\n        Find and fix vulnerabilities', 'Codespaces\\n        Instant dev environments', 'Copilot\\n        Write better code with AI', 'Code review\\n        Manage code changes', 'Issues\\n        Plan and track work', 'Discussions\\n        Collaborate outside of code', 'All features', 'Documentation', 'GitHub Skills', 'Changelog', 'Enterprise', 'Teams', 'Compare all', 'CI/CD & Automation', 'DevOps', 'DevSecOps', 'Customer Stories', 'Resources', 'GitHub Sponsors\\n        Fund open source developers', 'The ReadME Project\\n        GitHub community articles', 'Topics', 'Trending', 'Collections', 'Pricing', 'Search\\n      \\n\\n        All GitHub\\n      \\n↵\\n\\n\\n      Jump to\\n      ↵', 'Search\\n      \\n\\n        All GitHub\\n      \\n↵\\n\\n\\n      Jump to\\n      ↵', 'Search\\n      \\n\\n        All GitHub\\n      \\n↵\\n\\n\\n      Jump to\\n      ↵', 'Search\\n      \\n\\n        All GitHub\\n      \\n↵\\n\\n\\n      Jump to\\n      ↵', 'Sign in', 'Sign up', 'Explore', 'Topics', 'Trending', 'Collections', 'Events', 'GitHub Sponsors', 'Ember\\n      \\nEmber is a framework for creating web applications.', 'Lua\\n      \\nLua is a lightweight, embeddable scripting language.', 'NativeScript\\n      \\nNativeScript is a JavaScript-native mobile framework.', '#', '3D\\n\\n          3D modeling is the process of virtually developing the surface and structure of a 3D object.', '', 'Ajax\\n\\n          Ajax is a technique for creating interactive web applications.', '#', 'Algorithm\\n\\n          Algorithms are self-contained sequences that carry out a variety of tasks.', '', 'Amp\\n\\n          Amp is a non-blocking concurrency library for PHP.', '', 'Android\\n\\n          Android is an operating system built by Google designed for mobile devices.', '', 'Angular\\n\\n          Angular is an open source web application platform.', '', 'Ansible\\n\\n          Ansible is a simple and powerful automation engine.', '#', 'API\\n\\n          An API (Application Programming Interface) is a collection of protocols and subroutines for building software.', '', 'Arduino\\n\\n          Arduino is an open source hardware and software company and maker community.', '', 'ASP.NET\\n\\n          ASP.NET is a web framework for building modern web apps and services.', '', 'Atom\\n\\n          Atom is a open source text editor built with web technologies.', '', 'Awesome Lists\\n\\n          An awesome list is a list of awesome things curated by the community.', '', 'Amazon Web Services\\n\\n          Amazon Web Services provides on-demand cloud computing platforms on a subscription basis.', '', 'Azure\\n\\n          Azure is a cloud computing service created by Microsoft.', '', 'Babel\\n\\n          Babel is a compiler for writing next generation JavaScript, today.', '', 'Bash\\n\\n          Bash is a shell and command language interpreter for the GNU operating system.', '', 'Bitcoin\\n\\n          Bitcoin is a cryptocurrency developed by Satoshi Nakamoto.', '', 'Bootstrap\\n\\n          Bootstrap is an HTML, CSS, and JavaScript framework.', '', 'Bot\\n\\n          A bot is an application that runs automated tasks over the Internet.', '', 'C\\n\\n          C is a general purpose programming language that first appeared in 1972.', '', 'Chrome\\n\\n          Chrome is a web browser from the tech company Google.', '', 'Chrome extension\\n\\n          Chrome extensions enable users to customize the Chrome browsing experience.', '', 'Command line interface\\n\\n          A CLI, or command-line interface, is a console that helps users issue commands to a program.', '', 'Clojure\\n\\n          Clojure is a dynamic, general-purpose programming language.', '#', 'Code quality\\n\\n          Automate your code review with style, quality, security, and test‑coverage checks when you need them.', '#', 'Code review\\n\\n          Ensure your code meets quality standards and ship with confidence.', '#', 'Compiler\\n\\n          Compilers are software that translate higher-level programming languages to lower-level languages (e.g. machine code).', '#', 'Continuous integration\\n\\n          Automatically build and test your code as you push it upstream, preventing bugs from being deployed to production.', '', 'COVID-19\\n\\n          The coronavirus disease 2019 (COVID-19) is an infectious disease caused by SARS-CoV-2.', '', 'C++\\n\\n          C++ is a general purpose and object-oriented programming language.']\n"
          ]
        }
      ],
      "source": [
        "total_href = []\n",
        "for tags in p_tags_href:\n",
        "  total_href.append(tags.text.strip())\n",
        "\n",
        "print(total_href)\n",
        "  "
      ]
    },
    {
      "cell_type": "code",
      "execution_count": 52,
      "metadata": {
        "colab": {
          "base_uri": "https://localhost:8080/"
        },
        "id": "PCIElxRZbO_j",
        "outputId": "518d513a-727e-4890-b161-7aa4d22f6427"
      },
      "outputs": [
        {
          "name": "stdout",
          "output_type": "stream",
          "text": [
            "['https://github.com//signup?ref_cta=Sign+up&ref_loc=header+logged+out&ref_page=%2Ftopics&source=header', 'https://github.com//features/actions', 'https://github.com//features/packages', 'https://github.com//features/security', 'https://github.com//features/codespaces', 'https://github.com//features/copilot', 'https://github.com//features/code-review', 'https://github.com//features/issues', 'https://github.com//features/discussions', 'https://github.com//features', 'https://github.com/https://docs.github.com', 'https://github.com/https://skills.github.com/', 'https://github.com/https://github.blog/changelog', 'https://github.com//enterprise', 'https://github.com//team', 'https://github.com//pricing#compare-features', 'https://github.com/https://resources.github.com/ci-cd/', 'https://github.com/https://resources.github.com/devops/', 'https://github.com/https://resources.github.com/devops/fundamentals/devsecops/', 'https://github.com//customer-stories', 'https://github.com/https://resources.github.com/', 'https://github.com//sponsors', 'https://github.com//readme', 'https://github.com//topics', 'https://github.com//trending', 'https://github.com//collections', 'https://github.com//pricing', 'https://github.com/', 'https://github.com/', 'https://github.com/', 'https://github.com/', 'https://github.com//login?return_to=https%3A%2F%2Fgithub.com%2Ftopics%2F', 'https://github.com//signup?ref_cta=Sign+up&ref_loc=header+logged+out&ref_page=%2Ftopics&source=header', 'https://github.com//explore', 'https://github.com//topics', 'https://github.com//trending', 'https://github.com//collections', 'https://github.com//events', 'https://github.com//sponsors/explore', 'https://github.com//topics/ember', 'https://github.com//topics/lua', 'https://github.com//topics/nativescript', 'https://github.com//topics/3d', 'https://github.com//topics/3d', 'https://github.com//topics/ajax', 'https://github.com//topics/ajax', 'https://github.com//topics/algorithm', 'https://github.com//topics/algorithm', 'https://github.com//topics/amphp', 'https://github.com//topics/amphp', 'https://github.com//topics/android', 'https://github.com//topics/android', 'https://github.com//topics/angular', 'https://github.com//topics/angular', 'https://github.com//topics/ansible', 'https://github.com//topics/ansible', 'https://github.com//topics/api', 'https://github.com//topics/api', 'https://github.com//topics/arduino', 'https://github.com//topics/arduino', 'https://github.com//topics/aspnet', 'https://github.com//topics/aspnet', 'https://github.com//topics/atom', 'https://github.com//topics/atom', 'https://github.com//topics/awesome', 'https://github.com//topics/awesome', 'https://github.com//topics/aws', 'https://github.com//topics/aws', 'https://github.com//topics/azure', 'https://github.com//topics/azure', 'https://github.com//topics/babel', 'https://github.com//topics/babel', 'https://github.com//topics/bash', 'https://github.com//topics/bash', 'https://github.com//topics/bitcoin', 'https://github.com//topics/bitcoin', 'https://github.com//topics/bootstrap', 'https://github.com//topics/bootstrap', 'https://github.com//topics/bot', 'https://github.com//topics/bot', 'https://github.com//topics/c', 'https://github.com//topics/c', 'https://github.com//topics/chrome', 'https://github.com//topics/chrome', 'https://github.com//topics/chrome-extension', 'https://github.com//topics/chrome-extension', 'https://github.com//topics/cli', 'https://github.com//topics/cli', 'https://github.com//topics/clojure', 'https://github.com//topics/clojure', 'https://github.com//topics/code-quality', 'https://github.com//topics/code-quality', 'https://github.com//topics/code-review', 'https://github.com//topics/code-review', 'https://github.com//topics/compiler', 'https://github.com//topics/compiler', 'https://github.com//topics/continuous-integration', 'https://github.com//topics/continuous-integration', 'https://github.com//topics/covid-19', 'https://github.com//topics/covid-19', 'https://github.com//topics/cpp', 'https://github.com//topics/cpp']\n"
          ]
        }
      ],
      "source": [
        "total_href_links = []\n",
        "eliminited_href_links = []\n",
        "\n",
        "eliminited_href_links = total_href_links \n",
        "one_down=eliminited_href_links[1:]\n",
        "base_url = \"https://github.com/\"\n",
        "for tags in p_tags_href:\n",
        "  total_href_links.append( base_url + tags['href'])\n",
        "\n",
        "print(total_href_links)\n",
        "  "
      ]
    },
    {
      "cell_type": "code",
      "execution_count": 53,
      "metadata": {
        "colab": {
          "base_uri": "https://localhost:8080/"
        },
        "id": "6vVFHBHClQnc",
        "outputId": "b81e91f8-6c35-4fe8-a509-224e7c30f80e"
      },
      "outputs": [
        {
          "name": "stdout",
          "output_type": "stream",
          "text": [
            "['https://github.com//topics/3d', 'https://github.com//topics/ajax', 'https://github.com//topics/algorithm', 'https://github.com//topics/amphp', 'https://github.com//topics/android', 'https://github.com//topics/angular', 'https://github.com//topics/ansible', 'https://github.com//topics/api', 'https://github.com//topics/arduino', 'https://github.com//topics/aspnet', 'https://github.com//topics/atom', 'https://github.com//topics/awesome', 'https://github.com//topics/aws', 'https://github.com//topics/azure', 'https://github.com//topics/babel', 'https://github.com//topics/bash', 'https://github.com//topics/bitcoin', 'https://github.com//topics/bootstrap', 'https://github.com//topics/bot', 'https://github.com//topics/c', 'https://github.com//topics/chrome', 'https://github.com//topics/chrome-extension', 'https://github.com//topics/cli', 'https://github.com//topics/clojure', 'https://github.com//topics/code-quality', 'https://github.com//topics/code-review', 'https://github.com//topics/compiler', 'https://github.com//topics/continuous-integration', 'https://github.com//topics/covid-19', 'https://github.com//topics/cpp']\n"
          ]
        }
      ],
      "source": [
        "\n",
        "\n",
        "total_href_links_new = []\n",
        "\n",
        "\n",
        "\n",
        "base_url = \"https://github.com/\"\n",
        "for tags in p_tags_href_new:\n",
        "  total_href_links_new.append( base_url + tags['href'])\n",
        "\n",
        "print(total_href_links_new)\n"
      ]
    },
    {
      "cell_type": "code",
      "execution_count": 54,
      "metadata": {
        "colab": {
          "base_uri": "https://localhost:8080/"
        },
        "id": "q_fCd6BSi1GZ",
        "outputId": "c3a5bcb4-bfa3-4168-93eb-1ee659ee937b"
      },
      "outputs": [
        {
          "name": "stdout",
          "output_type": "stream",
          "text": [
            "['https://github.com//features/actions', 'https://github.com//features/packages', 'https://github.com//features/security', 'https://github.com//features/codespaces', 'https://github.com//features/copilot', 'https://github.com//features/code-review', 'https://github.com//features/issues', 'https://github.com//features/discussions', 'https://github.com//features', 'https://github.com/https://docs.github.com', 'https://github.com/https://skills.github.com/', 'https://github.com/https://github.blog/changelog', 'https://github.com//enterprise', 'https://github.com//team', 'https://github.com//pricing#compare-features', 'https://github.com/https://resources.github.com/ci-cd/', 'https://github.com/https://resources.github.com/devops/', 'https://github.com/https://resources.github.com/devops/fundamentals/devsecops/', 'https://github.com//customer-stories', 'https://github.com/https://resources.github.com/', 'https://github.com//sponsors', 'https://github.com//readme', 'https://github.com//topics', 'https://github.com//trending', 'https://github.com//collections', 'https://github.com//pricing', 'https://github.com/', 'https://github.com/', 'https://github.com/', 'https://github.com/', 'https://github.com//login?return_to=https%3A%2F%2Fgithub.com%2Ftopics%2F', 'https://github.com//signup?ref_cta=Sign+up&ref_loc=header+logged+out&ref_page=%2Ftopics&source=header', 'https://github.com//explore', 'https://github.com//topics', 'https://github.com//trending', 'https://github.com//collections', 'https://github.com//events', 'https://github.com//sponsors/explore', 'https://github.com//topics/ember', 'https://github.com//topics/lua', 'https://github.com//topics/nativescript', 'https://github.com//topics/3d', 'https://github.com//topics/3d', 'https://github.com//topics/ajax', 'https://github.com//topics/ajax', 'https://github.com//topics/algorithm', 'https://github.com//topics/algorithm', 'https://github.com//topics/amphp', 'https://github.com//topics/amphp', 'https://github.com//topics/android', 'https://github.com//topics/android', 'https://github.com//topics/angular', 'https://github.com//topics/angular', 'https://github.com//topics/ansible', 'https://github.com//topics/ansible', 'https://github.com//topics/api', 'https://github.com//topics/api', 'https://github.com//topics/arduino', 'https://github.com//topics/arduino', 'https://github.com//topics/aspnet', 'https://github.com//topics/aspnet', 'https://github.com//topics/atom', 'https://github.com//topics/atom', 'https://github.com//topics/awesome', 'https://github.com//topics/awesome', 'https://github.com//topics/aws', 'https://github.com//topics/aws', 'https://github.com//topics/azure', 'https://github.com//topics/azure', 'https://github.com//topics/babel', 'https://github.com//topics/babel', 'https://github.com//topics/bash', 'https://github.com//topics/bash', 'https://github.com//topics/bitcoin', 'https://github.com//topics/bitcoin', 'https://github.com//topics/bootstrap', 'https://github.com//topics/bootstrap', 'https://github.com//topics/bot', 'https://github.com//topics/bot', 'https://github.com//topics/c', 'https://github.com//topics/c', 'https://github.com//topics/chrome', 'https://github.com//topics/chrome', 'https://github.com//topics/chrome-extension', 'https://github.com//topics/chrome-extension', 'https://github.com//topics/cli', 'https://github.com//topics/cli', 'https://github.com//topics/clojure', 'https://github.com//topics/clojure', 'https://github.com//topics/code-quality', 'https://github.com//topics/code-quality', 'https://github.com//topics/code-review', 'https://github.com//topics/code-review', 'https://github.com//topics/compiler', 'https://github.com//topics/compiler', 'https://github.com//topics/continuous-integration', 'https://github.com//topics/continuous-integration', 'https://github.com//topics/covid-19', 'https://github.com//topics/covid-19', 'https://github.com//topics/cpp', 'https://github.com//topics/cpp']\n"
          ]
        }
      ],
      "source": [
        "print(eliminited_href_links[1:])"
      ]
    },
    {
      "cell_type": "code",
      "execution_count": 55,
      "metadata": {
        "colab": {
          "base_uri": "https://localhost:8080/"
        },
        "id": "7IFPW0Utuxkc",
        "outputId": "77bae8e9-a895-4b0f-a9e4-a3af15566869"
      },
      "outputs": [
        {
          "data": {
            "text/plain": [
              "[<p class=\"f5 color-fg-muted mb-0 mt-1\">\n",
              "           3D modeling is the process of virtually developing the surface and structure of a 3D object.\n",
              "         </p>, <p class=\"f5 color-fg-muted mb-0 mt-1\">\n",
              "           Ajax is a technique for creating interactive web applications.\n",
              "         </p>, <p class=\"f5 color-fg-muted mb-0 mt-1\">\n",
              "           Algorithms are self-contained sequences that carry out a variety of tasks.\n",
              "         </p>, <p class=\"f5 color-fg-muted mb-0 mt-1\">\n",
              "           Amp is a non-blocking concurrency library for PHP.\n",
              "         </p>, <p class=\"f5 color-fg-muted mb-0 mt-1\">\n",
              "           Android is an operating system built by Google designed for mobile devices.\n",
              "         </p>, <p class=\"f5 color-fg-muted mb-0 mt-1\">\n",
              "           Angular is an open source web application platform.\n",
              "         </p>, <p class=\"f5 color-fg-muted mb-0 mt-1\">\n",
              "           Ansible is a simple and powerful automation engine.\n",
              "         </p>, <p class=\"f5 color-fg-muted mb-0 mt-1\">\n",
              "           An API (Application Programming Interface) is a collection of protocols and subroutines for building software.\n",
              "         </p>, <p class=\"f5 color-fg-muted mb-0 mt-1\">\n",
              "           Arduino is an open source hardware and software company and maker community.\n",
              "         </p>, <p class=\"f5 color-fg-muted mb-0 mt-1\">\n",
              "           ASP.NET is a web framework for building modern web apps and services.\n",
              "         </p>, <p class=\"f5 color-fg-muted mb-0 mt-1\">\n",
              "           Atom is a open source text editor built with web technologies.\n",
              "         </p>, <p class=\"f5 color-fg-muted mb-0 mt-1\">\n",
              "           An awesome list is a list of awesome things curated by the community.\n",
              "         </p>, <p class=\"f5 color-fg-muted mb-0 mt-1\">\n",
              "           Amazon Web Services provides on-demand cloud computing platforms on a subscription basis.\n",
              "         </p>, <p class=\"f5 color-fg-muted mb-0 mt-1\">\n",
              "           Azure is a cloud computing service created by Microsoft.\n",
              "         </p>, <p class=\"f5 color-fg-muted mb-0 mt-1\">\n",
              "           Babel is a compiler for writing next generation JavaScript, today.\n",
              "         </p>, <p class=\"f5 color-fg-muted mb-0 mt-1\">\n",
              "           Bash is a shell and command language interpreter for the GNU operating system.\n",
              "         </p>, <p class=\"f5 color-fg-muted mb-0 mt-1\">\n",
              "           Bitcoin is a cryptocurrency developed by Satoshi Nakamoto.\n",
              "         </p>, <p class=\"f5 color-fg-muted mb-0 mt-1\">\n",
              "           Bootstrap is an HTML, CSS, and JavaScript framework.\n",
              "         </p>, <p class=\"f5 color-fg-muted mb-0 mt-1\">\n",
              "           A bot is an application that runs automated tasks over the Internet.\n",
              "         </p>, <p class=\"f5 color-fg-muted mb-0 mt-1\">\n",
              "           C is a general purpose programming language that first appeared in 1972.\n",
              "         </p>, <p class=\"f5 color-fg-muted mb-0 mt-1\">\n",
              "           Chrome is a web browser from the tech company Google.\n",
              "         </p>, <p class=\"f5 color-fg-muted mb-0 mt-1\">\n",
              "           Chrome extensions enable users to customize the Chrome browsing experience.\n",
              "         </p>, <p class=\"f5 color-fg-muted mb-0 mt-1\">\n",
              "           A CLI, or command-line interface, is a console that helps users issue commands to a program.\n",
              "         </p>, <p class=\"f5 color-fg-muted mb-0 mt-1\">\n",
              "           Clojure is a dynamic, general-purpose programming language.\n",
              "         </p>, <p class=\"f5 color-fg-muted mb-0 mt-1\">\n",
              "           Automate your code review with style, quality, security, and test‑coverage checks when you need them.\n",
              "         </p>, <p class=\"f5 color-fg-muted mb-0 mt-1\">\n",
              "           Ensure your code meets quality standards and ship with confidence.\n",
              "         </p>, <p class=\"f5 color-fg-muted mb-0 mt-1\">\n",
              "           Compilers are software that translate higher-level programming languages to lower-level languages (e.g. machine code).\n",
              "         </p>, <p class=\"f5 color-fg-muted mb-0 mt-1\">\n",
              "           Automatically build and test your code as you push it upstream, preventing bugs from being deployed to production.\n",
              "         </p>, <p class=\"f5 color-fg-muted mb-0 mt-1\">\n",
              "           The coronavirus disease 2019 (COVID-19) is an infectious disease caused by SARS-CoV-2.\n",
              "         </p>, <p class=\"f5 color-fg-muted mb-0 mt-1\">\n",
              "           C++ is a general purpose and object-oriented programming language.\n",
              "         </p>]"
            ]
          },
          "execution_count": 55,
          "metadata": {},
          "output_type": "execute_result"
        }
      ],
      "source": [
        "p_tags_description"
      ]
    },
    {
      "cell_type": "code",
      "execution_count": 56,
      "metadata": {
        "colab": {
          "base_uri": "https://localhost:8080/"
        },
        "id": "X8069YQNiV_a",
        "outputId": "8849d6fd-6638-4ca7-cae3-a71518e5a636"
      },
      "outputs": [
        {
          "name": "stdout",
          "output_type": "stream",
          "text": [
            "['3D modeling is the process of virtually developing the surface and structure of a 3D object.', 'Ajax is a technique for creating interactive web applications.', 'Algorithms are self-contained sequences that carry out a variety of tasks.', 'Amp is a non-blocking concurrency library for PHP.', 'Android is an operating system built by Google designed for mobile devices.', 'Angular is an open source web application platform.', 'Ansible is a simple and powerful automation engine.', 'An API (Application Programming Interface) is a collection of protocols and subroutines for building software.', 'Arduino is an open source hardware and software company and maker community.', 'ASP.NET is a web framework for building modern web apps and services.', 'Atom is a open source text editor built with web technologies.', 'An awesome list is a list of awesome things curated by the community.', 'Amazon Web Services provides on-demand cloud computing platforms on a subscription basis.', 'Azure is a cloud computing service created by Microsoft.', 'Babel is a compiler for writing next generation JavaScript, today.', 'Bash is a shell and command language interpreter for the GNU operating system.', 'Bitcoin is a cryptocurrency developed by Satoshi Nakamoto.', 'Bootstrap is an HTML, CSS, and JavaScript framework.', 'A bot is an application that runs automated tasks over the Internet.', 'C is a general purpose programming language that first appeared in 1972.', 'Chrome is a web browser from the tech company Google.', 'Chrome extensions enable users to customize the Chrome browsing experience.', 'A CLI, or command-line interface, is a console that helps users issue commands to a program.', 'Clojure is a dynamic, general-purpose programming language.', 'Automate your code review with style, quality, security, and test‑coverage checks when you need them.', 'Ensure your code meets quality standards and ship with confidence.', 'Compilers are software that translate higher-level programming languages to lower-level languages (e.g. machine code).', 'Automatically build and test your code as you push it upstream, preventing bugs from being deployed to production.', 'The coronavirus disease 2019 (COVID-19) is an infectious disease caused by SARS-CoV-2.', 'C++ is a general purpose and object-oriented programming language.']\n"
          ]
        }
      ],
      "source": [
        "total_href_description = []\n",
        "base_url = \"https://github.com/\"\n",
        "for tags in p_tags_description:\n",
        "  total_href_description.append(tags.text.strip())\n",
        "\n",
        "print(total_href_description)"
      ]
    },
    {
      "cell_type": "code",
      "execution_count": 57,
      "metadata": {
        "colab": {
          "base_uri": "https://localhost:8080/"
        },
        "id": "zq0ube7NwMav",
        "outputId": "80ea5dc7-6cc2-4b82-ad70-7d7b45746815"
      },
      "outputs": [
        {
          "name": "stdout",
          "output_type": "stream",
          "text": [
            "['3D', 'Ajax', 'Algorithm', 'Amp', 'Android', 'Angular', 'Ansible', 'API', 'Arduino', 'ASP.NET', 'Atom', 'Awesome Lists', 'Amazon Web Services', 'Azure', 'Babel', 'Bash', 'Bitcoin', 'Bootstrap', 'Bot', 'C', 'Chrome', 'Chrome extension', 'Command line interface', 'Clojure', 'Code quality', 'Code review', 'Compiler', 'Continuous integration', 'COVID-19', 'C++']\n"
          ]
        }
      ],
      "source": [
        "total_title = []\n",
        "\n",
        "for tags in p_tags:\n",
        "  total_title.append(tags.text)\n",
        "\n",
        "print(total_title)"
      ]
    },
    {
      "cell_type": "code",
      "execution_count": 57,
      "metadata": {
        "id": "p8bSi34_wMYP"
      },
      "outputs": [],
      "source": []
    },
    {
      "cell_type": "code",
      "execution_count": 58,
      "metadata": {
        "id": "DsBd14lxcLc8"
      },
      "outputs": [],
      "source": [
        "import pandas as pd"
      ]
    },
    {
      "cell_type": "code",
      "execution_count": 59,
      "metadata": {
        "id": "eYhR7ES1gT5M"
      },
      "outputs": [],
      "source": [
        "topic_dict ={\n",
        "    \"title\":total_title,\n",
        "    \"description\":total_href_description,\n",
        "    \"links\":total_href_links_new\n",
        "\n",
        "}"
      ]
    },
    {
      "cell_type": "code",
      "execution_count": 60,
      "metadata": {
        "id": "uTHsmGUnjmrq"
      },
      "outputs": [],
      "source": [
        "topic_Df = pd.DataFrame(topic_dict)\n"
      ]
    },
    {
      "cell_type": "code",
      "execution_count": 61,
      "metadata": {
        "colab": {
          "base_uri": "https://localhost:8080/",
          "height": 990
        },
        "id": "gxHiqoIHmwkN",
        "outputId": "836eb379-b69e-4f7d-daa8-2fbd0a6800f8"
      },
      "outputs": [
        {
          "data": {
            "text/html": [
              "\n",
              "  <div id=\"df-3201c25c-5290-463b-81cd-e8187f6145c3\">\n",
              "    <div class=\"colab-df-container\">\n",
              "      <div>\n",
              "<style scoped>\n",
              "    .dataframe tbody tr th:only-of-type {\n",
              "        vertical-align: middle;\n",
              "    }\n",
              "\n",
              "    .dataframe tbody tr th {\n",
              "        vertical-align: top;\n",
              "    }\n",
              "\n",
              "    .dataframe thead th {\n",
              "        text-align: right;\n",
              "    }\n",
              "</style>\n",
              "<table border=\"1\" class=\"dataframe\">\n",
              "  <thead>\n",
              "    <tr style=\"text-align: right;\">\n",
              "      <th></th>\n",
              "      <th>title</th>\n",
              "      <th>description</th>\n",
              "      <th>links</th>\n",
              "    </tr>\n",
              "  </thead>\n",
              "  <tbody>\n",
              "    <tr>\n",
              "      <th>0</th>\n",
              "      <td>3D</td>\n",
              "      <td>3D modeling is the process of virtually develo...</td>\n",
              "      <td>https://github.com//topics/3d</td>\n",
              "    </tr>\n",
              "    <tr>\n",
              "      <th>1</th>\n",
              "      <td>Ajax</td>\n",
              "      <td>Ajax is a technique for creating interactive w...</td>\n",
              "      <td>https://github.com//topics/ajax</td>\n",
              "    </tr>\n",
              "    <tr>\n",
              "      <th>2</th>\n",
              "      <td>Algorithm</td>\n",
              "      <td>Algorithms are self-contained sequences that c...</td>\n",
              "      <td>https://github.com//topics/algorithm</td>\n",
              "    </tr>\n",
              "    <tr>\n",
              "      <th>3</th>\n",
              "      <td>Amp</td>\n",
              "      <td>Amp is a non-blocking concurrency library for ...</td>\n",
              "      <td>https://github.com//topics/amphp</td>\n",
              "    </tr>\n",
              "    <tr>\n",
              "      <th>4</th>\n",
              "      <td>Android</td>\n",
              "      <td>Android is an operating system built by Google...</td>\n",
              "      <td>https://github.com//topics/android</td>\n",
              "    </tr>\n",
              "    <tr>\n",
              "      <th>5</th>\n",
              "      <td>Angular</td>\n",
              "      <td>Angular is an open source web application plat...</td>\n",
              "      <td>https://github.com//topics/angular</td>\n",
              "    </tr>\n",
              "    <tr>\n",
              "      <th>6</th>\n",
              "      <td>Ansible</td>\n",
              "      <td>Ansible is a simple and powerful automation en...</td>\n",
              "      <td>https://github.com//topics/ansible</td>\n",
              "    </tr>\n",
              "    <tr>\n",
              "      <th>7</th>\n",
              "      <td>API</td>\n",
              "      <td>An API (Application Programming Interface) is ...</td>\n",
              "      <td>https://github.com//topics/api</td>\n",
              "    </tr>\n",
              "    <tr>\n",
              "      <th>8</th>\n",
              "      <td>Arduino</td>\n",
              "      <td>Arduino is an open source hardware and softwar...</td>\n",
              "      <td>https://github.com//topics/arduino</td>\n",
              "    </tr>\n",
              "    <tr>\n",
              "      <th>9</th>\n",
              "      <td>ASP.NET</td>\n",
              "      <td>ASP.NET is a web framework for building modern...</td>\n",
              "      <td>https://github.com//topics/aspnet</td>\n",
              "    </tr>\n",
              "    <tr>\n",
              "      <th>10</th>\n",
              "      <td>Atom</td>\n",
              "      <td>Atom is a open source text editor built with w...</td>\n",
              "      <td>https://github.com//topics/atom</td>\n",
              "    </tr>\n",
              "    <tr>\n",
              "      <th>11</th>\n",
              "      <td>Awesome Lists</td>\n",
              "      <td>An awesome list is a list of awesome things cu...</td>\n",
              "      <td>https://github.com//topics/awesome</td>\n",
              "    </tr>\n",
              "    <tr>\n",
              "      <th>12</th>\n",
              "      <td>Amazon Web Services</td>\n",
              "      <td>Amazon Web Services provides on-demand cloud c...</td>\n",
              "      <td>https://github.com//topics/aws</td>\n",
              "    </tr>\n",
              "    <tr>\n",
              "      <th>13</th>\n",
              "      <td>Azure</td>\n",
              "      <td>Azure is a cloud computing service created by ...</td>\n",
              "      <td>https://github.com//topics/azure</td>\n",
              "    </tr>\n",
              "    <tr>\n",
              "      <th>14</th>\n",
              "      <td>Babel</td>\n",
              "      <td>Babel is a compiler for writing next generatio...</td>\n",
              "      <td>https://github.com//topics/babel</td>\n",
              "    </tr>\n",
              "    <tr>\n",
              "      <th>15</th>\n",
              "      <td>Bash</td>\n",
              "      <td>Bash is a shell and command language interpret...</td>\n",
              "      <td>https://github.com//topics/bash</td>\n",
              "    </tr>\n",
              "    <tr>\n",
              "      <th>16</th>\n",
              "      <td>Bitcoin</td>\n",
              "      <td>Bitcoin is a cryptocurrency developed by Satos...</td>\n",
              "      <td>https://github.com//topics/bitcoin</td>\n",
              "    </tr>\n",
              "    <tr>\n",
              "      <th>17</th>\n",
              "      <td>Bootstrap</td>\n",
              "      <td>Bootstrap is an HTML, CSS, and JavaScript fram...</td>\n",
              "      <td>https://github.com//topics/bootstrap</td>\n",
              "    </tr>\n",
              "    <tr>\n",
              "      <th>18</th>\n",
              "      <td>Bot</td>\n",
              "      <td>A bot is an application that runs automated ta...</td>\n",
              "      <td>https://github.com//topics/bot</td>\n",
              "    </tr>\n",
              "    <tr>\n",
              "      <th>19</th>\n",
              "      <td>C</td>\n",
              "      <td>C is a general purpose programming language th...</td>\n",
              "      <td>https://github.com//topics/c</td>\n",
              "    </tr>\n",
              "    <tr>\n",
              "      <th>20</th>\n",
              "      <td>Chrome</td>\n",
              "      <td>Chrome is a web browser from the tech company ...</td>\n",
              "      <td>https://github.com//topics/chrome</td>\n",
              "    </tr>\n",
              "    <tr>\n",
              "      <th>21</th>\n",
              "      <td>Chrome extension</td>\n",
              "      <td>Chrome extensions enable users to customize th...</td>\n",
              "      <td>https://github.com//topics/chrome-extension</td>\n",
              "    </tr>\n",
              "    <tr>\n",
              "      <th>22</th>\n",
              "      <td>Command line interface</td>\n",
              "      <td>A CLI, or command-line interface, is a console...</td>\n",
              "      <td>https://github.com//topics/cli</td>\n",
              "    </tr>\n",
              "    <tr>\n",
              "      <th>23</th>\n",
              "      <td>Clojure</td>\n",
              "      <td>Clojure is a dynamic, general-purpose programm...</td>\n",
              "      <td>https://github.com//topics/clojure</td>\n",
              "    </tr>\n",
              "    <tr>\n",
              "      <th>24</th>\n",
              "      <td>Code quality</td>\n",
              "      <td>Automate your code review with style, quality,...</td>\n",
              "      <td>https://github.com//topics/code-quality</td>\n",
              "    </tr>\n",
              "    <tr>\n",
              "      <th>25</th>\n",
              "      <td>Code review</td>\n",
              "      <td>Ensure your code meets quality standards and s...</td>\n",
              "      <td>https://github.com//topics/code-review</td>\n",
              "    </tr>\n",
              "    <tr>\n",
              "      <th>26</th>\n",
              "      <td>Compiler</td>\n",
              "      <td>Compilers are software that translate higher-l...</td>\n",
              "      <td>https://github.com//topics/compiler</td>\n",
              "    </tr>\n",
              "    <tr>\n",
              "      <th>27</th>\n",
              "      <td>Continuous integration</td>\n",
              "      <td>Automatically build and test your code as you ...</td>\n",
              "      <td>https://github.com//topics/continuous-integration</td>\n",
              "    </tr>\n",
              "    <tr>\n",
              "      <th>28</th>\n",
              "      <td>COVID-19</td>\n",
              "      <td>The coronavirus disease 2019 (COVID-19) is an ...</td>\n",
              "      <td>https://github.com//topics/covid-19</td>\n",
              "    </tr>\n",
              "    <tr>\n",
              "      <th>29</th>\n",
              "      <td>C++</td>\n",
              "      <td>C++ is a general purpose and object-oriented p...</td>\n",
              "      <td>https://github.com//topics/cpp</td>\n",
              "    </tr>\n",
              "  </tbody>\n",
              "</table>\n",
              "</div>\n",
              "      <button class=\"colab-df-convert\" onclick=\"convertToInteractive('df-3201c25c-5290-463b-81cd-e8187f6145c3')\"\n",
              "              title=\"Convert this dataframe to an interactive table.\"\n",
              "              style=\"display:none;\">\n",
              "        \n",
              "  <svg xmlns=\"http://www.w3.org/2000/svg\" height=\"24px\"viewBox=\"0 0 24 24\"\n",
              "       width=\"24px\">\n",
              "    <path d=\"M0 0h24v24H0V0z\" fill=\"none\"/>\n",
              "    <path d=\"M18.56 5.44l.94 2.06.94-2.06 2.06-.94-2.06-.94-.94-2.06-.94 2.06-2.06.94zm-11 1L8.5 8.5l.94-2.06 2.06-.94-2.06-.94L8.5 2.5l-.94 2.06-2.06.94zm10 10l.94 2.06.94-2.06 2.06-.94-2.06-.94-.94-2.06-.94 2.06-2.06.94z\"/><path d=\"M17.41 7.96l-1.37-1.37c-.4-.4-.92-.59-1.43-.59-.52 0-1.04.2-1.43.59L10.3 9.45l-7.72 7.72c-.78.78-.78 2.05 0 2.83L4 21.41c.39.39.9.59 1.41.59.51 0 1.02-.2 1.41-.59l7.78-7.78 2.81-2.81c.8-.78.8-2.07 0-2.86zM5.41 20L4 18.59l7.72-7.72 1.47 1.35L5.41 20z\"/>\n",
              "  </svg>\n",
              "      </button>\n",
              "      \n",
              "  <style>\n",
              "    .colab-df-container {\n",
              "      display:flex;\n",
              "      flex-wrap:wrap;\n",
              "      gap: 12px;\n",
              "    }\n",
              "\n",
              "    .colab-df-convert {\n",
              "      background-color: #E8F0FE;\n",
              "      border: none;\n",
              "      border-radius: 50%;\n",
              "      cursor: pointer;\n",
              "      display: none;\n",
              "      fill: #1967D2;\n",
              "      height: 32px;\n",
              "      padding: 0 0 0 0;\n",
              "      width: 32px;\n",
              "    }\n",
              "\n",
              "    .colab-df-convert:hover {\n",
              "      background-color: #E2EBFA;\n",
              "      box-shadow: 0px 1px 2px rgba(60, 64, 67, 0.3), 0px 1px 3px 1px rgba(60, 64, 67, 0.15);\n",
              "      fill: #174EA6;\n",
              "    }\n",
              "\n",
              "    [theme=dark] .colab-df-convert {\n",
              "      background-color: #3B4455;\n",
              "      fill: #D2E3FC;\n",
              "    }\n",
              "\n",
              "    [theme=dark] .colab-df-convert:hover {\n",
              "      background-color: #434B5C;\n",
              "      box-shadow: 0px 1px 3px 1px rgba(0, 0, 0, 0.15);\n",
              "      filter: drop-shadow(0px 1px 2px rgba(0, 0, 0, 0.3));\n",
              "      fill: #FFFFFF;\n",
              "    }\n",
              "  </style>\n",
              "\n",
              "      <script>\n",
              "        const buttonEl =\n",
              "          document.querySelector('#df-3201c25c-5290-463b-81cd-e8187f6145c3 button.colab-df-convert');\n",
              "        buttonEl.style.display =\n",
              "          google.colab.kernel.accessAllowed ? 'block' : 'none';\n",
              "\n",
              "        async function convertToInteractive(key) {\n",
              "          const element = document.querySelector('#df-3201c25c-5290-463b-81cd-e8187f6145c3');\n",
              "          const dataTable =\n",
              "            await google.colab.kernel.invokeFunction('convertToInteractive',\n",
              "                                                     [key], {});\n",
              "          if (!dataTable) return;\n",
              "\n",
              "          const docLinkHtml = 'Like what you see? Visit the ' +\n",
              "            '<a target=\"_blank\" href=https://colab.research.google.com/notebooks/data_table.ipynb>data table notebook</a>'\n",
              "            + ' to learn more about interactive tables.';\n",
              "          element.innerHTML = '';\n",
              "          dataTable['output_type'] = 'display_data';\n",
              "          await google.colab.output.renderOutput(dataTable, element);\n",
              "          const docLink = document.createElement('div');\n",
              "          docLink.innerHTML = docLinkHtml;\n",
              "          element.appendChild(docLink);\n",
              "        }\n",
              "      </script>\n",
              "    </div>\n",
              "  </div>\n",
              "  "
            ],
            "text/plain": [
              "                     title                                        description  \\\n",
              "0                       3D  3D modeling is the process of virtually develo...   \n",
              "1                     Ajax  Ajax is a technique for creating interactive w...   \n",
              "2                Algorithm  Algorithms are self-contained sequences that c...   \n",
              "3                      Amp  Amp is a non-blocking concurrency library for ...   \n",
              "4                  Android  Android is an operating system built by Google...   \n",
              "5                  Angular  Angular is an open source web application plat...   \n",
              "6                  Ansible  Ansible is a simple and powerful automation en...   \n",
              "7                      API  An API (Application Programming Interface) is ...   \n",
              "8                  Arduino  Arduino is an open source hardware and softwar...   \n",
              "9                  ASP.NET  ASP.NET is a web framework for building modern...   \n",
              "10                    Atom  Atom is a open source text editor built with w...   \n",
              "11           Awesome Lists  An awesome list is a list of awesome things cu...   \n",
              "12     Amazon Web Services  Amazon Web Services provides on-demand cloud c...   \n",
              "13                   Azure  Azure is a cloud computing service created by ...   \n",
              "14                   Babel  Babel is a compiler for writing next generatio...   \n",
              "15                    Bash  Bash is a shell and command language interpret...   \n",
              "16                 Bitcoin  Bitcoin is a cryptocurrency developed by Satos...   \n",
              "17               Bootstrap  Bootstrap is an HTML, CSS, and JavaScript fram...   \n",
              "18                     Bot  A bot is an application that runs automated ta...   \n",
              "19                       C  C is a general purpose programming language th...   \n",
              "20                  Chrome  Chrome is a web browser from the tech company ...   \n",
              "21        Chrome extension  Chrome extensions enable users to customize th...   \n",
              "22  Command line interface  A CLI, or command-line interface, is a console...   \n",
              "23                 Clojure  Clojure is a dynamic, general-purpose programm...   \n",
              "24            Code quality  Automate your code review with style, quality,...   \n",
              "25             Code review  Ensure your code meets quality standards and s...   \n",
              "26                Compiler  Compilers are software that translate higher-l...   \n",
              "27  Continuous integration  Automatically build and test your code as you ...   \n",
              "28                COVID-19  The coronavirus disease 2019 (COVID-19) is an ...   \n",
              "29                     C++  C++ is a general purpose and object-oriented p...   \n",
              "\n",
              "                                                links  \n",
              "0                       https://github.com//topics/3d  \n",
              "1                     https://github.com//topics/ajax  \n",
              "2                https://github.com//topics/algorithm  \n",
              "3                    https://github.com//topics/amphp  \n",
              "4                  https://github.com//topics/android  \n",
              "5                  https://github.com//topics/angular  \n",
              "6                  https://github.com//topics/ansible  \n",
              "7                      https://github.com//topics/api  \n",
              "8                  https://github.com//topics/arduino  \n",
              "9                   https://github.com//topics/aspnet  \n",
              "10                    https://github.com//topics/atom  \n",
              "11                 https://github.com//topics/awesome  \n",
              "12                     https://github.com//topics/aws  \n",
              "13                   https://github.com//topics/azure  \n",
              "14                   https://github.com//topics/babel  \n",
              "15                    https://github.com//topics/bash  \n",
              "16                 https://github.com//topics/bitcoin  \n",
              "17               https://github.com//topics/bootstrap  \n",
              "18                     https://github.com//topics/bot  \n",
              "19                       https://github.com//topics/c  \n",
              "20                  https://github.com//topics/chrome  \n",
              "21        https://github.com//topics/chrome-extension  \n",
              "22                     https://github.com//topics/cli  \n",
              "23                 https://github.com//topics/clojure  \n",
              "24            https://github.com//topics/code-quality  \n",
              "25             https://github.com//topics/code-review  \n",
              "26                https://github.com//topics/compiler  \n",
              "27  https://github.com//topics/continuous-integration  \n",
              "28                https://github.com//topics/covid-19  \n",
              "29                     https://github.com//topics/cpp  "
            ]
          },
          "execution_count": 61,
          "metadata": {},
          "output_type": "execute_result"
        }
      ],
      "source": [
        "topic_Df"
      ]
    },
    {
      "cell_type": "code",
      "execution_count": 62,
      "metadata": {
        "id": "Io-XaCjmyXNm"
      },
      "outputs": [],
      "source": [
        "topic_Df.to_csv('topic.csv')"
      ]
    },
    {
      "cell_type": "code",
      "execution_count": 63,
      "metadata": {
        "id": "NSRwKgwYm8KO"
      },
      "outputs": [],
      "source": [
        "topic_new = total_href_links_new[0]"
      ]
    },
    {
      "cell_type": "code",
      "execution_count": 64,
      "metadata": {
        "colab": {
          "base_uri": "https://localhost:8080/",
          "height": 35
        },
        "id": "skmdVSOwrIAO",
        "outputId": "de57d794-1e44-4bbc-de0e-766c806902e3"
      },
      "outputs": [
        {
          "data": {
            "application/vnd.google.colaboratory.intrinsic+json": {
              "type": "string"
            },
            "text/plain": [
              "'https://github.com//topics/3d'"
            ]
          },
          "execution_count": 64,
          "metadata": {},
          "output_type": "execute_result"
        }
      ],
      "source": [
        "topic_new"
      ]
    },
    {
      "cell_type": "code",
      "execution_count": 65,
      "metadata": {
        "id": "m1o5iqOarJDi"
      },
      "outputs": [],
      "source": [
        "response_new_page = requests.get(topic_new)"
      ]
    },
    {
      "cell_type": "code",
      "execution_count": 67,
      "metadata": {
        "id": "kLLJlqOXsNyI"
      },
      "outputs": [],
      "source": [
        "topic_doc = BeautifulSoup(response_new_page.text,\"html.parser\")"
      ]
    },
    {
      "cell_type": "code",
      "execution_count": 68,
      "metadata": {
        "id": "U4j-YYDWvCiJ"
      },
      "outputs": [],
      "source": [
        "h1_selection = \"f3 color-fg-muted text-normal lh-condensed\""
      ]
    },
    {
      "cell_type": "code",
      "execution_count": 69,
      "metadata": {
        "id": "3FFm0rmY0b2l"
      },
      "outputs": [],
      "source": [
        "username_tags = topic_doc.find_all('h3',{'class':h1_selection})"
      ]
    },
    {
      "cell_type": "code",
      "execution_count": 70,
      "metadata": {
        "colab": {
          "base_uri": "https://localhost:8080/"
        },
        "id": "U31mjk2p06mN",
        "outputId": "989773db-25de-45bc-dc7f-8dfa5df76673"
      },
      "outputs": [
        {
          "data": {
            "text/plain": [
              "<h3 class=\"f3 color-fg-muted text-normal lh-condensed\">\n",
              "<a data-hydro-click='{\"event_type\":\"explore.click\",\"payload\":{\"click_context\":\"REPOSITORY_CARD\",\"click_target\":\"OWNER\",\"click_visual_representation\":\"REPOSITORY_OWNER_HEADING\",\"actor_id\":null,\"record_id\":97088,\"originating_url\":\"https://github.com/topics/3d\",\"user_id\":null}}' data-hydro-click-hmac=\"4bdbc49d3c05ae7f70b531fbce709a384200b0768554e0172950286a8db30940\" data-turbo=\"false\" data-view-component=\"true\" href=\"/mrdoob\">\n",
              "            mrdoob\n",
              "</a>          /\n",
              "          <a class=\"text-bold wb-break-word\" data-hydro-click='{\"event_type\":\"explore.click\",\"payload\":{\"click_context\":\"REPOSITORY_CARD\",\"click_target\":\"REPOSITORY\",\"click_visual_representation\":\"REPOSITORY_NAME_HEADING\",\"actor_id\":null,\"record_id\":576201,\"originating_url\":\"https://github.com/topics/3d\",\"user_id\":null}}' data-hydro-click-hmac=\"517d3d5cb9d89752156923904a4238816bc9b51ab7772f3e3644ce897d8dd4e5\" data-turbo=\"false\" data-view-component=\"true\" href=\"/mrdoob/three.js\">\n",
              "            three.js\n",
              "</a> </h3>"
            ]
          },
          "execution_count": 70,
          "metadata": {},
          "output_type": "execute_result"
        }
      ],
      "source": [
        "username_tags[0]"
      ]
    },
    {
      "cell_type": "code",
      "execution_count": 71,
      "metadata": {
        "id": "rTMid7kA1Bq4"
      },
      "outputs": [],
      "source": [
        "a_tags = username_tags[0].find_all('a')"
      ]
    },
    {
      "cell_type": "code",
      "execution_count": 72,
      "metadata": {
        "colab": {
          "base_uri": "https://localhost:8080/",
          "height": 35
        },
        "id": "olGoLJLj1px2",
        "outputId": "a4e407a5-117c-4ec9-e67c-85543106ede5"
      },
      "outputs": [
        {
          "data": {
            "application/vnd.google.colaboratory.intrinsic+json": {
              "type": "string"
            },
            "text/plain": [
              "'mrdoob'"
            ]
          },
          "execution_count": 72,
          "metadata": {},
          "output_type": "execute_result"
        }
      ],
      "source": [
        "a_tags[0].text.strip()"
      ]
    },
    {
      "cell_type": "code",
      "execution_count": 73,
      "metadata": {
        "colab": {
          "base_uri": "https://localhost:8080/",
          "height": 35
        },
        "id": "u1tv1n8f1rBO",
        "outputId": "cf48a382-323b-47d3-a26c-919cc9e94b91"
      },
      "outputs": [
        {
          "data": {
            "application/vnd.google.colaboratory.intrinsic+json": {
              "type": "string"
            },
            "text/plain": [
              "'three.js'"
            ]
          },
          "execution_count": 73,
          "metadata": {},
          "output_type": "execute_result"
        }
      ],
      "source": [
        "a_tags[1].text.strip()"
      ]
    },
    {
      "cell_type": "code",
      "execution_count": 74,
      "metadata": {
        "colab": {
          "base_uri": "https://localhost:8080/",
          "height": 35
        },
        "id": "GJeqEUAJ2PPA",
        "outputId": "e7516e09-ef57-44dd-a0c4-b08faeea8745"
      },
      "outputs": [
        {
          "data": {
            "application/vnd.google.colaboratory.intrinsic+json": {
              "type": "string"
            },
            "text/plain": [
              "'/mrdoob/three.js'"
            ]
          },
          "execution_count": 74,
          "metadata": {},
          "output_type": "execute_result"
        }
      ],
      "source": [
        "a_tags[1]['href']"
      ]
    },
    {
      "cell_type": "code",
      "execution_count": 75,
      "metadata": {
        "colab": {
          "base_uri": "https://localhost:8080/",
          "height": 35
        },
        "id": "6Uh2uhY-2SSJ",
        "outputId": "53e8d3e8-01bd-448f-bcaf-22cbe9c2e098"
      },
      "outputs": [
        {
          "data": {
            "application/vnd.google.colaboratory.intrinsic+json": {
              "type": "string"
            },
            "text/plain": [
              "'https://github.com/'"
            ]
          },
          "execution_count": 75,
          "metadata": {},
          "output_type": "execute_result"
        }
      ],
      "source": [
        "base_url"
      ]
    },
    {
      "cell_type": "code",
      "execution_count": 76,
      "metadata": {
        "colab": {
          "base_uri": "https://localhost:8080/",
          "height": 35
        },
        "id": "JsqZGI7V2r0_",
        "outputId": "32d53faf-3cb2-4fd1-95d0-51000db834b4"
      },
      "outputs": [
        {
          "data": {
            "application/vnd.google.colaboratory.intrinsic+json": {
              "type": "string"
            },
            "text/plain": [
              "'https://github.com//mrdoob/three.js'"
            ]
          },
          "execution_count": 76,
          "metadata": {},
          "output_type": "execute_result"
        }
      ],
      "source": [
        "base_url + a_tags[1]['href']"
      ]
    },
    {
      "cell_type": "code",
      "execution_count": 77,
      "metadata": {
        "id": "TrKaQ3Ba2vaS"
      },
      "outputs": [],
      "source": [
        "counter_stack = topic_doc.find_all('span',{'class':\"Counter js-social-count\"})"
      ]
    },
    {
      "cell_type": "code",
      "execution_count": 78,
      "metadata": {
        "colab": {
          "base_uri": "https://localhost:8080/",
          "height": 35
        },
        "id": "x0zbRNQl_CJ6",
        "outputId": "326eb0e7-e19a-4a26-c80a-2ccf70645a7c"
      },
      "outputs": [
        {
          "data": {
            "application/vnd.google.colaboratory.intrinsic+json": {
              "type": "string"
            },
            "text/plain": [
              "'85.4k'"
            ]
          },
          "execution_count": 78,
          "metadata": {},
          "output_type": "execute_result"
        }
      ],
      "source": [
        "counter_stack[0].text"
      ]
    },
    {
      "cell_type": "code",
      "execution_count": 79,
      "metadata": {
        "id": "YePtWWw-_DS6"
      },
      "outputs": [],
      "source": [
        "def parse_star_count(stars_str):\n",
        "     stars_str = stars_str.strip()\n",
        "     if stars_str[-1] == \"k\":\n",
        "        return int(float(stars_str[:-1])  *1000)\n",
        "\n"
      ]
    },
    {
      "cell_type": "code",
      "execution_count": 80,
      "metadata": {
        "colab": {
          "base_uri": "https://localhost:8080/"
        },
        "id": "kOfWQj8TCG8s",
        "outputId": "e6a0c191-ded9-4ca8-f0a2-795fa9fdedfe"
      },
      "outputs": [
        {
          "data": {
            "text/plain": [
              "85400"
            ]
          },
          "execution_count": 80,
          "metadata": {},
          "output_type": "execute_result"
        }
      ],
      "source": [
        "parse_star_count(counter_stack[0].text.strip())"
      ]
    },
    {
      "cell_type": "code",
      "execution_count": 81,
      "metadata": {
        "id": "9MwvctK1CRxw"
      },
      "outputs": [],
      "source": [
        "def get_repo_info(star_str):\n",
        "    #  a_tagss = h1_tag.find_all('a')\n",
        "     user_name = a_tags[0].text.strip()\n",
        "     repo_name = a_tags[1].text.strip()\n",
        "     repo_url = base_url + a_tags[1]['href']\n",
        "     stars = parse_star_count(star_str.text.strip())\n",
        "     return user_name,repo_name,repo_url,stars\n",
        "\n",
        "     "
      ]
    },
    {
      "cell_type": "code",
      "execution_count": 82,
      "metadata": {
        "colab": {
          "base_uri": "https://localhost:8080/"
        },
        "id": "7vVsYfbENwm5",
        "outputId": "4fb3e9be-1f7e-47b9-83e9-5d565e6fe083"
      },
      "outputs": [
        {
          "data": {
            "text/plain": [
              "<a class=\"text-bold wb-break-word\" data-hydro-click='{\"event_type\":\"explore.click\",\"payload\":{\"click_context\":\"REPOSITORY_CARD\",\"click_target\":\"REPOSITORY\",\"click_visual_representation\":\"REPOSITORY_NAME_HEADING\",\"actor_id\":null,\"record_id\":576201,\"originating_url\":\"https://github.com/topics/3d\",\"user_id\":null}}' data-hydro-click-hmac=\"517d3d5cb9d89752156923904a4238816bc9b51ab7772f3e3644ce897d8dd4e5\" data-turbo=\"false\" data-view-component=\"true\" href=\"/mrdoob/three.js\">\n",
              "            three.js\n",
              "</a>"
            ]
          },
          "execution_count": 82,
          "metadata": {},
          "output_type": "execute_result"
        }
      ],
      "source": [
        "a_tags[1]"
      ]
    },
    {
      "cell_type": "code",
      "execution_count": 83,
      "metadata": {
        "colab": {
          "base_uri": "https://localhost:8080/",
          "height": 35
        },
        "id": "WVVKRp5bNeSI",
        "outputId": "8d4f4f17-69f4-4018-df62-e4bdece096b5"
      },
      "outputs": [
        {
          "data": {
            "application/vnd.google.colaboratory.intrinsic+json": {
              "type": "string"
            },
            "text/plain": [
              "'https://github.com//mrdoob/three.js'"
            ]
          },
          "execution_count": 83,
          "metadata": {},
          "output_type": "execute_result"
        }
      ],
      "source": [
        "base_url + a_tags[1]['href']"
      ]
    },
    {
      "cell_type": "code",
      "execution_count": 84,
      "metadata": {
        "colab": {
          "base_uri": "https://localhost:8080/",
          "height": 35
        },
        "id": "1u3jOAmlNb0Q",
        "outputId": "82095e0b-82b6-48e4-e08a-b42f88efe911"
      },
      "outputs": [
        {
          "data": {
            "application/vnd.google.colaboratory.intrinsic+json": {
              "type": "string"
            },
            "text/plain": [
              "'three.js'"
            ]
          },
          "execution_count": 84,
          "metadata": {},
          "output_type": "execute_result"
        }
      ],
      "source": [
        "a_tags[1].text.strip()"
      ]
    },
    {
      "cell_type": "code",
      "execution_count": 85,
      "metadata": {
        "colab": {
          "base_uri": "https://localhost:8080/",
          "height": 35
        },
        "id": "AW3ph1pNNXys",
        "outputId": "e4bcbb83-8436-4c1b-804d-00b256961d79"
      },
      "outputs": [
        {
          "data": {
            "application/vnd.google.colaboratory.intrinsic+json": {
              "type": "string"
            },
            "text/plain": [
              "'mrdoob'"
            ]
          },
          "execution_count": 85,
          "metadata": {},
          "output_type": "execute_result"
        }
      ],
      "source": [
        "a_tags[0].text.strip()"
      ]
    },
    {
      "cell_type": "code",
      "execution_count": 86,
      "metadata": {
        "colab": {
          "base_uri": "https://localhost:8080/"
        },
        "id": "WKR3mdPdM554",
        "outputId": "6d63273b-81f6-4bda-f6c2-30a3f3369463"
      },
      "outputs": [
        {
          "data": {
            "text/plain": [
              "[<a data-hydro-click='{\"event_type\":\"explore.click\",\"payload\":{\"click_context\":\"REPOSITORY_CARD\",\"click_target\":\"OWNER\",\"click_visual_representation\":\"REPOSITORY_OWNER_HEADING\",\"actor_id\":null,\"record_id\":97088,\"originating_url\":\"https://github.com/topics/3d\",\"user_id\":null}}' data-hydro-click-hmac=\"4bdbc49d3c05ae7f70b531fbce709a384200b0768554e0172950286a8db30940\" data-turbo=\"false\" data-view-component=\"true\" href=\"/mrdoob\">\n",
              "             mrdoob\n",
              " </a>,\n",
              " <a class=\"text-bold wb-break-word\" data-hydro-click='{\"event_type\":\"explore.click\",\"payload\":{\"click_context\":\"REPOSITORY_CARD\",\"click_target\":\"REPOSITORY\",\"click_visual_representation\":\"REPOSITORY_NAME_HEADING\",\"actor_id\":null,\"record_id\":576201,\"originating_url\":\"https://github.com/topics/3d\",\"user_id\":null}}' data-hydro-click-hmac=\"517d3d5cb9d89752156923904a4238816bc9b51ab7772f3e3644ce897d8dd4e5\" data-turbo=\"false\" data-view-component=\"true\" href=\"/mrdoob/three.js\">\n",
              "             three.js\n",
              " </a>]"
            ]
          },
          "execution_count": 86,
          "metadata": {},
          "output_type": "execute_result"
        }
      ],
      "source": [
        "a_tags"
      ]
    },
    {
      "cell_type": "code",
      "execution_count": 87,
      "metadata": {
        "colab": {
          "base_uri": "https://localhost:8080/"
        },
        "id": "XhW3oJFoMKCA",
        "outputId": "c42939f1-97d9-4d8d-f816-94e1d3a07e01"
      },
      "outputs": [
        {
          "data": {
            "text/plain": [
              "<h3 class=\"f3 color-fg-muted text-normal lh-condensed\">\n",
              "<a data-hydro-click='{\"event_type\":\"explore.click\",\"payload\":{\"click_context\":\"REPOSITORY_CARD\",\"click_target\":\"OWNER\",\"click_visual_representation\":\"REPOSITORY_OWNER_HEADING\",\"actor_id\":null,\"record_id\":97088,\"originating_url\":\"https://github.com/topics/3d\",\"user_id\":null}}' data-hydro-click-hmac=\"4bdbc49d3c05ae7f70b531fbce709a384200b0768554e0172950286a8db30940\" data-turbo=\"false\" data-view-component=\"true\" href=\"/mrdoob\">\n",
              "            mrdoob\n",
              "</a>          /\n",
              "          <a class=\"text-bold wb-break-word\" data-hydro-click='{\"event_type\":\"explore.click\",\"payload\":{\"click_context\":\"REPOSITORY_CARD\",\"click_target\":\"REPOSITORY\",\"click_visual_representation\":\"REPOSITORY_NAME_HEADING\",\"actor_id\":null,\"record_id\":576201,\"originating_url\":\"https://github.com/topics/3d\",\"user_id\":null}}' data-hydro-click-hmac=\"517d3d5cb9d89752156923904a4238816bc9b51ab7772f3e3644ce897d8dd4e5\" data-turbo=\"false\" data-view-component=\"true\" href=\"/mrdoob/three.js\">\n",
              "            three.js\n",
              "</a> </h3>"
            ]
          },
          "execution_count": 87,
          "metadata": {},
          "output_type": "execute_result"
        }
      ],
      "source": [
        "username_tags[0]"
      ]
    },
    {
      "cell_type": "code",
      "execution_count": 88,
      "metadata": {
        "colab": {
          "base_uri": "https://localhost:8080/",
          "height": 35
        },
        "id": "fJ-jyXKwKQFB",
        "outputId": "610f9f7f-0aa1-4ee2-9e7a-8c20be31f28a"
      },
      "outputs": [
        {
          "data": {
            "application/vnd.google.colaboratory.intrinsic+json": {
              "type": "string"
            },
            "text/plain": [
              "'mrdoob'"
            ]
          },
          "execution_count": 88,
          "metadata": {},
          "output_type": "execute_result"
        }
      ],
      "source": [
        "a_tags[0].text.strip()"
      ]
    },
    {
      "cell_type": "code",
      "execution_count": 88,
      "metadata": {
        "id": "JSovUTMMPXIr"
      },
      "outputs": [],
      "source": []
    },
    {
      "cell_type": "code",
      "execution_count": 89,
      "metadata": {
        "id": "C9Wdf_D2PW-7"
      },
      "outputs": [],
      "source": [
        "def get_repo_info(h1_tag,star_str):\n",
        "     a_tagss = h1_tag.find_all('a')\n",
        "     user_name = a_tagss[0].text.strip()\n",
        "     repo_name = a_tagss[1].text.strip()\n",
        "     repo_url = base_url + a_tagss[1]['href']\n",
        "     stars = parse_star_count(star_str.text.strip())\n",
        "     return user_name,repo_name,repo_url,stars\n"
      ]
    },
    {
      "cell_type": "code",
      "execution_count": 90,
      "metadata": {
        "colab": {
          "base_uri": "https://localhost:8080/"
        },
        "id": "jdtK02BBKLS_",
        "outputId": "deadd4a0-a20c-4184-e69d-7a792dc39c76"
      },
      "outputs": [
        {
          "data": {
            "text/plain": [
              "('mrdoob', 'three.js', 'https://github.com//mrdoob/three.js', 85400)"
            ]
          },
          "execution_count": 90,
          "metadata": {},
          "output_type": "execute_result"
        }
      ],
      "source": [
        "get_repo_info(username_tags[0],counter_stack[0])"
      ]
    },
    {
      "cell_type": "code",
      "execution_count": 91,
      "metadata": {
        "id": "e0823DuVfR4_"
      },
      "outputs": [],
      "source": [
        "new_day=get_repo_info(username_tags[0],counter_stack[0])"
      ]
    },
    {
      "cell_type": "code",
      "execution_count": 92,
      "metadata": {
        "colab": {
          "base_uri": "https://localhost:8080/",
          "height": 35
        },
        "id": "GuAryS6bfW32",
        "outputId": "154fe4f9-aa43-42d6-f6e7-83aaae7df3b5"
      },
      "outputs": [
        {
          "data": {
            "application/vnd.google.colaboratory.intrinsic+json": {
              "type": "string"
            },
            "text/plain": [
              "'https://github.com//mrdoob/three.js'"
            ]
          },
          "execution_count": 92,
          "metadata": {},
          "output_type": "execute_result"
        }
      ],
      "source": [
        "new_day[2]"
      ]
    },
    {
      "cell_type": "code",
      "execution_count": 93,
      "metadata": {
        "id": "466_iVR4Pg_y"
      },
      "outputs": [],
      "source": [
        "topic_repos_dict= {\n",
        "    'username': [],\n",
        "     \"repo_name\" :[],\n",
        "     \"repo_url\" : [],\n",
        "     \"stars\" :[],\n",
        "    \n",
        "}\n",
        "\n",
        "for i in range(len(username_tags)):\n",
        "\n",
        "    repo_info = get_repo_info(username_tags[i],counter_stack[i])\n",
        "    topic_repos_dict['username'].append(repo_info[0])\n",
        "    topic_repos_dict['repo_name'].append(repo_info[1])\n",
        "    topic_repos_dict['repo_url'].append(repo_info[2])\n",
        "    topic_repos_dict['stars'].append(repo_info[3])\n",
        "\n"
      ]
    },
    {
      "cell_type": "code",
      "execution_count": 94,
      "metadata": {
        "colab": {
          "base_uri": "https://localhost:8080/"
        },
        "id": "u7GeY6BYcP0L",
        "outputId": "264264d0-7c5f-4bc5-f4ea-7c0e560e4eaf"
      },
      "outputs": [
        {
          "data": {
            "text/plain": [
              "{'username': ['mrdoob',\n",
              "  'libgdx',\n",
              "  'pmndrs',\n",
              "  'BabylonJS',\n",
              "  'ssloy',\n",
              "  'aframevr',\n",
              "  'lettier',\n",
              "  'FreeCAD',\n",
              "  'metafizzy',\n",
              "  'CesiumGS',\n",
              "  'timzhang642',\n",
              "  'isl-org',\n",
              "  'a1studmuffin',\n",
              "  'blender',\n",
              "  'domlysz',\n",
              "  'openscad',\n",
              "  'spritejs',\n",
              "  'google',\n",
              "  'jagenjo',\n",
              "  'tensorspace-team'],\n",
              " 'repo_name': ['three.js',\n",
              "  'libgdx',\n",
              "  'react-three-fiber',\n",
              "  'Babylon.js',\n",
              "  'tinyrenderer',\n",
              "  'aframe',\n",
              "  '3d-game-shaders-for-beginners',\n",
              "  'FreeCAD',\n",
              "  'zdog',\n",
              "  'cesium',\n",
              "  '3D-Machine-Learning',\n",
              "  'Open3D',\n",
              "  'SpaceshipGenerator',\n",
              "  'blender',\n",
              "  'BlenderGIS',\n",
              "  'openscad',\n",
              "  'spritejs',\n",
              "  'model-viewer',\n",
              "  'webglstudio.js',\n",
              "  'tensorspace'],\n",
              " 'repo_url': ['https://github.com//mrdoob/three.js',\n",
              "  'https://github.com//libgdx/libgdx',\n",
              "  'https://github.com//pmndrs/react-three-fiber',\n",
              "  'https://github.com//BabylonJS/Babylon.js',\n",
              "  'https://github.com//ssloy/tinyrenderer',\n",
              "  'https://github.com//aframevr/aframe',\n",
              "  'https://github.com//lettier/3d-game-shaders-for-beginners',\n",
              "  'https://github.com//FreeCAD/FreeCAD',\n",
              "  'https://github.com//metafizzy/zdog',\n",
              "  'https://github.com//CesiumGS/cesium',\n",
              "  'https://github.com//timzhang642/3D-Machine-Learning',\n",
              "  'https://github.com//isl-org/Open3D',\n",
              "  'https://github.com//a1studmuffin/SpaceshipGenerator',\n",
              "  'https://github.com//blender/blender',\n",
              "  'https://github.com//domlysz/BlenderGIS',\n",
              "  'https://github.com//openscad/openscad',\n",
              "  'https://github.com//spritejs/spritejs',\n",
              "  'https://github.com//google/model-viewer',\n",
              "  'https://github.com//jagenjo/webglstudio.js',\n",
              "  'https://github.com//tensorspace-team/tensorspace'],\n",
              " 'stars': [85400,\n",
              "  20500,\n",
              "  19500,\n",
              "  18400,\n",
              "  14700,\n",
              "  14500,\n",
              "  13700,\n",
              "  12200,\n",
              "  9400,\n",
              "  9200,\n",
              "  8300,\n",
              "  7400,\n",
              "  7200,\n",
              "  6600,\n",
              "  5600,\n",
              "  5000,\n",
              "  5000,\n",
              "  4700,\n",
              "  4700,\n",
              "  4700]}"
            ]
          },
          "execution_count": 94,
          "metadata": {},
          "output_type": "execute_result"
        }
      ],
      "source": [
        "\n",
        "topic_repos_dict"
      ]
    },
    {
      "cell_type": "code",
      "execution_count": 95,
      "metadata": {
        "id": "3XsOJHOKgbwk"
      },
      "outputs": [],
      "source": [
        "topic_ref_df = pd.DataFrame(topic_repos_dict)"
      ]
    },
    {
      "cell_type": "code",
      "execution_count": 96,
      "metadata": {
        "colab": {
          "base_uri": "https://localhost:8080/",
          "height": 677
        },
        "id": "5rzEh-qqjV-2",
        "outputId": "4a803c23-3833-4d23-e332-c54d8632219e"
      },
      "outputs": [
        {
          "data": {
            "text/html": [
              "\n",
              "  <div id=\"df-f7d8fa6d-a175-46f3-82df-aac46f13f552\">\n",
              "    <div class=\"colab-df-container\">\n",
              "      <div>\n",
              "<style scoped>\n",
              "    .dataframe tbody tr th:only-of-type {\n",
              "        vertical-align: middle;\n",
              "    }\n",
              "\n",
              "    .dataframe tbody tr th {\n",
              "        vertical-align: top;\n",
              "    }\n",
              "\n",
              "    .dataframe thead th {\n",
              "        text-align: right;\n",
              "    }\n",
              "</style>\n",
              "<table border=\"1\" class=\"dataframe\">\n",
              "  <thead>\n",
              "    <tr style=\"text-align: right;\">\n",
              "      <th></th>\n",
              "      <th>username</th>\n",
              "      <th>repo_name</th>\n",
              "      <th>repo_url</th>\n",
              "      <th>stars</th>\n",
              "    </tr>\n",
              "  </thead>\n",
              "  <tbody>\n",
              "    <tr>\n",
              "      <th>0</th>\n",
              "      <td>mrdoob</td>\n",
              "      <td>three.js</td>\n",
              "      <td>https://github.com//mrdoob/three.js</td>\n",
              "      <td>85400</td>\n",
              "    </tr>\n",
              "    <tr>\n",
              "      <th>1</th>\n",
              "      <td>libgdx</td>\n",
              "      <td>libgdx</td>\n",
              "      <td>https://github.com//libgdx/libgdx</td>\n",
              "      <td>20500</td>\n",
              "    </tr>\n",
              "    <tr>\n",
              "      <th>2</th>\n",
              "      <td>pmndrs</td>\n",
              "      <td>react-three-fiber</td>\n",
              "      <td>https://github.com//pmndrs/react-three-fiber</td>\n",
              "      <td>19500</td>\n",
              "    </tr>\n",
              "    <tr>\n",
              "      <th>3</th>\n",
              "      <td>BabylonJS</td>\n",
              "      <td>Babylon.js</td>\n",
              "      <td>https://github.com//BabylonJS/Babylon.js</td>\n",
              "      <td>18400</td>\n",
              "    </tr>\n",
              "    <tr>\n",
              "      <th>4</th>\n",
              "      <td>ssloy</td>\n",
              "      <td>tinyrenderer</td>\n",
              "      <td>https://github.com//ssloy/tinyrenderer</td>\n",
              "      <td>14700</td>\n",
              "    </tr>\n",
              "    <tr>\n",
              "      <th>5</th>\n",
              "      <td>aframevr</td>\n",
              "      <td>aframe</td>\n",
              "      <td>https://github.com//aframevr/aframe</td>\n",
              "      <td>14500</td>\n",
              "    </tr>\n",
              "    <tr>\n",
              "      <th>6</th>\n",
              "      <td>lettier</td>\n",
              "      <td>3d-game-shaders-for-beginners</td>\n",
              "      <td>https://github.com//lettier/3d-game-shaders-fo...</td>\n",
              "      <td>13700</td>\n",
              "    </tr>\n",
              "    <tr>\n",
              "      <th>7</th>\n",
              "      <td>FreeCAD</td>\n",
              "      <td>FreeCAD</td>\n",
              "      <td>https://github.com//FreeCAD/FreeCAD</td>\n",
              "      <td>12200</td>\n",
              "    </tr>\n",
              "    <tr>\n",
              "      <th>8</th>\n",
              "      <td>metafizzy</td>\n",
              "      <td>zdog</td>\n",
              "      <td>https://github.com//metafizzy/zdog</td>\n",
              "      <td>9400</td>\n",
              "    </tr>\n",
              "    <tr>\n",
              "      <th>9</th>\n",
              "      <td>CesiumGS</td>\n",
              "      <td>cesium</td>\n",
              "      <td>https://github.com//CesiumGS/cesium</td>\n",
              "      <td>9200</td>\n",
              "    </tr>\n",
              "    <tr>\n",
              "      <th>10</th>\n",
              "      <td>timzhang642</td>\n",
              "      <td>3D-Machine-Learning</td>\n",
              "      <td>https://github.com//timzhang642/3D-Machine-Lea...</td>\n",
              "      <td>8300</td>\n",
              "    </tr>\n",
              "    <tr>\n",
              "      <th>11</th>\n",
              "      <td>isl-org</td>\n",
              "      <td>Open3D</td>\n",
              "      <td>https://github.com//isl-org/Open3D</td>\n",
              "      <td>7400</td>\n",
              "    </tr>\n",
              "    <tr>\n",
              "      <th>12</th>\n",
              "      <td>a1studmuffin</td>\n",
              "      <td>SpaceshipGenerator</td>\n",
              "      <td>https://github.com//a1studmuffin/SpaceshipGene...</td>\n",
              "      <td>7200</td>\n",
              "    </tr>\n",
              "    <tr>\n",
              "      <th>13</th>\n",
              "      <td>blender</td>\n",
              "      <td>blender</td>\n",
              "      <td>https://github.com//blender/blender</td>\n",
              "      <td>6600</td>\n",
              "    </tr>\n",
              "    <tr>\n",
              "      <th>14</th>\n",
              "      <td>domlysz</td>\n",
              "      <td>BlenderGIS</td>\n",
              "      <td>https://github.com//domlysz/BlenderGIS</td>\n",
              "      <td>5600</td>\n",
              "    </tr>\n",
              "    <tr>\n",
              "      <th>15</th>\n",
              "      <td>openscad</td>\n",
              "      <td>openscad</td>\n",
              "      <td>https://github.com//openscad/openscad</td>\n",
              "      <td>5000</td>\n",
              "    </tr>\n",
              "    <tr>\n",
              "      <th>16</th>\n",
              "      <td>spritejs</td>\n",
              "      <td>spritejs</td>\n",
              "      <td>https://github.com//spritejs/spritejs</td>\n",
              "      <td>5000</td>\n",
              "    </tr>\n",
              "    <tr>\n",
              "      <th>17</th>\n",
              "      <td>google</td>\n",
              "      <td>model-viewer</td>\n",
              "      <td>https://github.com//google/model-viewer</td>\n",
              "      <td>4700</td>\n",
              "    </tr>\n",
              "    <tr>\n",
              "      <th>18</th>\n",
              "      <td>jagenjo</td>\n",
              "      <td>webglstudio.js</td>\n",
              "      <td>https://github.com//jagenjo/webglstudio.js</td>\n",
              "      <td>4700</td>\n",
              "    </tr>\n",
              "    <tr>\n",
              "      <th>19</th>\n",
              "      <td>tensorspace-team</td>\n",
              "      <td>tensorspace</td>\n",
              "      <td>https://github.com//tensorspace-team/tensorspace</td>\n",
              "      <td>4700</td>\n",
              "    </tr>\n",
              "  </tbody>\n",
              "</table>\n",
              "</div>\n",
              "      <button class=\"colab-df-convert\" onclick=\"convertToInteractive('df-f7d8fa6d-a175-46f3-82df-aac46f13f552')\"\n",
              "              title=\"Convert this dataframe to an interactive table.\"\n",
              "              style=\"display:none;\">\n",
              "        \n",
              "  <svg xmlns=\"http://www.w3.org/2000/svg\" height=\"24px\"viewBox=\"0 0 24 24\"\n",
              "       width=\"24px\">\n",
              "    <path d=\"M0 0h24v24H0V0z\" fill=\"none\"/>\n",
              "    <path d=\"M18.56 5.44l.94 2.06.94-2.06 2.06-.94-2.06-.94-.94-2.06-.94 2.06-2.06.94zm-11 1L8.5 8.5l.94-2.06 2.06-.94-2.06-.94L8.5 2.5l-.94 2.06-2.06.94zm10 10l.94 2.06.94-2.06 2.06-.94-2.06-.94-.94-2.06-.94 2.06-2.06.94z\"/><path d=\"M17.41 7.96l-1.37-1.37c-.4-.4-.92-.59-1.43-.59-.52 0-1.04.2-1.43.59L10.3 9.45l-7.72 7.72c-.78.78-.78 2.05 0 2.83L4 21.41c.39.39.9.59 1.41.59.51 0 1.02-.2 1.41-.59l7.78-7.78 2.81-2.81c.8-.78.8-2.07 0-2.86zM5.41 20L4 18.59l7.72-7.72 1.47 1.35L5.41 20z\"/>\n",
              "  </svg>\n",
              "      </button>\n",
              "      \n",
              "  <style>\n",
              "    .colab-df-container {\n",
              "      display:flex;\n",
              "      flex-wrap:wrap;\n",
              "      gap: 12px;\n",
              "    }\n",
              "\n",
              "    .colab-df-convert {\n",
              "      background-color: #E8F0FE;\n",
              "      border: none;\n",
              "      border-radius: 50%;\n",
              "      cursor: pointer;\n",
              "      display: none;\n",
              "      fill: #1967D2;\n",
              "      height: 32px;\n",
              "      padding: 0 0 0 0;\n",
              "      width: 32px;\n",
              "    }\n",
              "\n",
              "    .colab-df-convert:hover {\n",
              "      background-color: #E2EBFA;\n",
              "      box-shadow: 0px 1px 2px rgba(60, 64, 67, 0.3), 0px 1px 3px 1px rgba(60, 64, 67, 0.15);\n",
              "      fill: #174EA6;\n",
              "    }\n",
              "\n",
              "    [theme=dark] .colab-df-convert {\n",
              "      background-color: #3B4455;\n",
              "      fill: #D2E3FC;\n",
              "    }\n",
              "\n",
              "    [theme=dark] .colab-df-convert:hover {\n",
              "      background-color: #434B5C;\n",
              "      box-shadow: 0px 1px 3px 1px rgba(0, 0, 0, 0.15);\n",
              "      filter: drop-shadow(0px 1px 2px rgba(0, 0, 0, 0.3));\n",
              "      fill: #FFFFFF;\n",
              "    }\n",
              "  </style>\n",
              "\n",
              "      <script>\n",
              "        const buttonEl =\n",
              "          document.querySelector('#df-f7d8fa6d-a175-46f3-82df-aac46f13f552 button.colab-df-convert');\n",
              "        buttonEl.style.display =\n",
              "          google.colab.kernel.accessAllowed ? 'block' : 'none';\n",
              "\n",
              "        async function convertToInteractive(key) {\n",
              "          const element = document.querySelector('#df-f7d8fa6d-a175-46f3-82df-aac46f13f552');\n",
              "          const dataTable =\n",
              "            await google.colab.kernel.invokeFunction('convertToInteractive',\n",
              "                                                     [key], {});\n",
              "          if (!dataTable) return;\n",
              "\n",
              "          const docLinkHtml = 'Like what you see? Visit the ' +\n",
              "            '<a target=\"_blank\" href=https://colab.research.google.com/notebooks/data_table.ipynb>data table notebook</a>'\n",
              "            + ' to learn more about interactive tables.';\n",
              "          element.innerHTML = '';\n",
              "          dataTable['output_type'] = 'display_data';\n",
              "          await google.colab.output.renderOutput(dataTable, element);\n",
              "          const docLink = document.createElement('div');\n",
              "          docLink.innerHTML = docLinkHtml;\n",
              "          element.appendChild(docLink);\n",
              "        }\n",
              "      </script>\n",
              "    </div>\n",
              "  </div>\n",
              "  "
            ],
            "text/plain": [
              "            username                      repo_name  \\\n",
              "0             mrdoob                       three.js   \n",
              "1             libgdx                         libgdx   \n",
              "2             pmndrs              react-three-fiber   \n",
              "3          BabylonJS                     Babylon.js   \n",
              "4              ssloy                   tinyrenderer   \n",
              "5           aframevr                         aframe   \n",
              "6            lettier  3d-game-shaders-for-beginners   \n",
              "7            FreeCAD                        FreeCAD   \n",
              "8          metafizzy                           zdog   \n",
              "9           CesiumGS                         cesium   \n",
              "10       timzhang642            3D-Machine-Learning   \n",
              "11           isl-org                         Open3D   \n",
              "12      a1studmuffin             SpaceshipGenerator   \n",
              "13           blender                        blender   \n",
              "14           domlysz                     BlenderGIS   \n",
              "15          openscad                       openscad   \n",
              "16          spritejs                       spritejs   \n",
              "17            google                   model-viewer   \n",
              "18           jagenjo                 webglstudio.js   \n",
              "19  tensorspace-team                    tensorspace   \n",
              "\n",
              "                                             repo_url  stars  \n",
              "0                 https://github.com//mrdoob/three.js  85400  \n",
              "1                   https://github.com//libgdx/libgdx  20500  \n",
              "2        https://github.com//pmndrs/react-three-fiber  19500  \n",
              "3            https://github.com//BabylonJS/Babylon.js  18400  \n",
              "4              https://github.com//ssloy/tinyrenderer  14700  \n",
              "5                 https://github.com//aframevr/aframe  14500  \n",
              "6   https://github.com//lettier/3d-game-shaders-fo...  13700  \n",
              "7                 https://github.com//FreeCAD/FreeCAD  12200  \n",
              "8                  https://github.com//metafizzy/zdog   9400  \n",
              "9                 https://github.com//CesiumGS/cesium   9200  \n",
              "10  https://github.com//timzhang642/3D-Machine-Lea...   8300  \n",
              "11                 https://github.com//isl-org/Open3D   7400  \n",
              "12  https://github.com//a1studmuffin/SpaceshipGene...   7200  \n",
              "13                https://github.com//blender/blender   6600  \n",
              "14             https://github.com//domlysz/BlenderGIS   5600  \n",
              "15              https://github.com//openscad/openscad   5000  \n",
              "16              https://github.com//spritejs/spritejs   5000  \n",
              "17            https://github.com//google/model-viewer   4700  \n",
              "18         https://github.com//jagenjo/webglstudio.js   4700  \n",
              "19   https://github.com//tensorspace-team/tensorspace   4700  "
            ]
          },
          "execution_count": 96,
          "metadata": {},
          "output_type": "execute_result"
        }
      ],
      "source": [
        "topic_ref_df"
      ]
    },
    {
      "cell_type": "code",
      "execution_count": 97,
      "metadata": {
        "id": "IvUQqDaFjYKx"
      },
      "outputs": [],
      "source": [
        "topic_ref_df.to_csv(\"github.csv\")"
      ]
    },
    {
      "cell_type": "code",
      "execution_count": 98,
      "metadata": {
        "colab": {
          "base_uri": "https://localhost:8080/",
          "height": 329
        },
        "id": "Y6-Dh4Atv5kp",
        "outputId": "b7cd5314-f436-4c4b-aa88-0ef6f1d27ee3"
      },
      "outputs": [
        {
          "ename": "FileNotFoundError",
          "evalue": "ignored",
          "output_type": "error",
          "traceback": [
            "\u001b[0;31m---------------------------------------------------------------------------\u001b[0m",
            "\u001b[0;31mFileNotFoundError\u001b[0m                         Traceback (most recent call last)",
            "\u001b[0;32m<ipython-input-98-35bcbb7a5465>\u001b[0m in \u001b[0;36m<module>\u001b[0;34m\u001b[0m\n\u001b[0;32m----> 1\u001b[0;31m \u001b[0mpd\u001b[0m\u001b[0;34m.\u001b[0m\u001b[0mread_csv\u001b[0m\u001b[0;34m(\u001b[0m\u001b[0;34m\"github\"\u001b[0m\u001b[0;34m)\u001b[0m\u001b[0;34m\u001b[0m\u001b[0;34m\u001b[0m\u001b[0m\n\u001b[0m",
            "\u001b[0;32m/usr/local/lib/python3.7/dist-packages/pandas/util/_decorators.py\u001b[0m in \u001b[0;36mwrapper\u001b[0;34m(*args, **kwargs)\u001b[0m\n\u001b[1;32m    309\u001b[0m                     \u001b[0mstacklevel\u001b[0m\u001b[0;34m=\u001b[0m\u001b[0mstacklevel\u001b[0m\u001b[0;34m,\u001b[0m\u001b[0;34m\u001b[0m\u001b[0;34m\u001b[0m\u001b[0m\n\u001b[1;32m    310\u001b[0m                 )\n\u001b[0;32m--> 311\u001b[0;31m             \u001b[0;32mreturn\u001b[0m \u001b[0mfunc\u001b[0m\u001b[0;34m(\u001b[0m\u001b[0;34m*\u001b[0m\u001b[0margs\u001b[0m\u001b[0;34m,\u001b[0m \u001b[0;34m**\u001b[0m\u001b[0mkwargs\u001b[0m\u001b[0;34m)\u001b[0m\u001b[0;34m\u001b[0m\u001b[0;34m\u001b[0m\u001b[0m\n\u001b[0m\u001b[1;32m    312\u001b[0m \u001b[0;34m\u001b[0m\u001b[0m\n\u001b[1;32m    313\u001b[0m         \u001b[0;32mreturn\u001b[0m \u001b[0mwrapper\u001b[0m\u001b[0;34m\u001b[0m\u001b[0;34m\u001b[0m\u001b[0m\n",
            "\u001b[0;32m/usr/local/lib/python3.7/dist-packages/pandas/io/parsers/readers.py\u001b[0m in \u001b[0;36mread_csv\u001b[0;34m(filepath_or_buffer, sep, delimiter, header, names, index_col, usecols, squeeze, prefix, mangle_dupe_cols, dtype, engine, converters, true_values, false_values, skipinitialspace, skiprows, skipfooter, nrows, na_values, keep_default_na, na_filter, verbose, skip_blank_lines, parse_dates, infer_datetime_format, keep_date_col, date_parser, dayfirst, cache_dates, iterator, chunksize, compression, thousands, decimal, lineterminator, quotechar, quoting, doublequote, escapechar, comment, encoding, encoding_errors, dialect, error_bad_lines, warn_bad_lines, on_bad_lines, delim_whitespace, low_memory, memory_map, float_precision, storage_options)\u001b[0m\n\u001b[1;32m    584\u001b[0m     \u001b[0mkwds\u001b[0m\u001b[0;34m.\u001b[0m\u001b[0mupdate\u001b[0m\u001b[0;34m(\u001b[0m\u001b[0mkwds_defaults\u001b[0m\u001b[0;34m)\u001b[0m\u001b[0;34m\u001b[0m\u001b[0;34m\u001b[0m\u001b[0m\n\u001b[1;32m    585\u001b[0m \u001b[0;34m\u001b[0m\u001b[0m\n\u001b[0;32m--> 586\u001b[0;31m     \u001b[0;32mreturn\u001b[0m \u001b[0m_read\u001b[0m\u001b[0;34m(\u001b[0m\u001b[0mfilepath_or_buffer\u001b[0m\u001b[0;34m,\u001b[0m \u001b[0mkwds\u001b[0m\u001b[0;34m)\u001b[0m\u001b[0;34m\u001b[0m\u001b[0;34m\u001b[0m\u001b[0m\n\u001b[0m\u001b[1;32m    587\u001b[0m \u001b[0;34m\u001b[0m\u001b[0m\n\u001b[1;32m    588\u001b[0m \u001b[0;34m\u001b[0m\u001b[0m\n",
            "\u001b[0;32m/usr/local/lib/python3.7/dist-packages/pandas/io/parsers/readers.py\u001b[0m in \u001b[0;36m_read\u001b[0;34m(filepath_or_buffer, kwds)\u001b[0m\n\u001b[1;32m    480\u001b[0m \u001b[0;34m\u001b[0m\u001b[0m\n\u001b[1;32m    481\u001b[0m     \u001b[0;31m# Create the parser.\u001b[0m\u001b[0;34m\u001b[0m\u001b[0;34m\u001b[0m\u001b[0;34m\u001b[0m\u001b[0m\n\u001b[0;32m--> 482\u001b[0;31m     \u001b[0mparser\u001b[0m \u001b[0;34m=\u001b[0m \u001b[0mTextFileReader\u001b[0m\u001b[0;34m(\u001b[0m\u001b[0mfilepath_or_buffer\u001b[0m\u001b[0;34m,\u001b[0m \u001b[0;34m**\u001b[0m\u001b[0mkwds\u001b[0m\u001b[0;34m)\u001b[0m\u001b[0;34m\u001b[0m\u001b[0;34m\u001b[0m\u001b[0m\n\u001b[0m\u001b[1;32m    483\u001b[0m \u001b[0;34m\u001b[0m\u001b[0m\n\u001b[1;32m    484\u001b[0m     \u001b[0;32mif\u001b[0m \u001b[0mchunksize\u001b[0m \u001b[0;32mor\u001b[0m \u001b[0miterator\u001b[0m\u001b[0;34m:\u001b[0m\u001b[0;34m\u001b[0m\u001b[0;34m\u001b[0m\u001b[0m\n",
            "\u001b[0;32m/usr/local/lib/python3.7/dist-packages/pandas/io/parsers/readers.py\u001b[0m in \u001b[0;36m__init__\u001b[0;34m(self, f, engine, **kwds)\u001b[0m\n\u001b[1;32m    809\u001b[0m             \u001b[0mself\u001b[0m\u001b[0;34m.\u001b[0m\u001b[0moptions\u001b[0m\u001b[0;34m[\u001b[0m\u001b[0;34m\"has_index_names\"\u001b[0m\u001b[0;34m]\u001b[0m \u001b[0;34m=\u001b[0m \u001b[0mkwds\u001b[0m\u001b[0;34m[\u001b[0m\u001b[0;34m\"has_index_names\"\u001b[0m\u001b[0;34m]\u001b[0m\u001b[0;34m\u001b[0m\u001b[0;34m\u001b[0m\u001b[0m\n\u001b[1;32m    810\u001b[0m \u001b[0;34m\u001b[0m\u001b[0m\n\u001b[0;32m--> 811\u001b[0;31m         \u001b[0mself\u001b[0m\u001b[0;34m.\u001b[0m\u001b[0m_engine\u001b[0m \u001b[0;34m=\u001b[0m \u001b[0mself\u001b[0m\u001b[0;34m.\u001b[0m\u001b[0m_make_engine\u001b[0m\u001b[0;34m(\u001b[0m\u001b[0mself\u001b[0m\u001b[0;34m.\u001b[0m\u001b[0mengine\u001b[0m\u001b[0;34m)\u001b[0m\u001b[0;34m\u001b[0m\u001b[0;34m\u001b[0m\u001b[0m\n\u001b[0m\u001b[1;32m    812\u001b[0m \u001b[0;34m\u001b[0m\u001b[0m\n\u001b[1;32m    813\u001b[0m     \u001b[0;32mdef\u001b[0m \u001b[0mclose\u001b[0m\u001b[0;34m(\u001b[0m\u001b[0mself\u001b[0m\u001b[0;34m)\u001b[0m\u001b[0;34m:\u001b[0m\u001b[0;34m\u001b[0m\u001b[0;34m\u001b[0m\u001b[0m\n",
            "\u001b[0;32m/usr/local/lib/python3.7/dist-packages/pandas/io/parsers/readers.py\u001b[0m in \u001b[0;36m_make_engine\u001b[0;34m(self, engine)\u001b[0m\n\u001b[1;32m   1038\u001b[0m             )\n\u001b[1;32m   1039\u001b[0m         \u001b[0;31m# error: Too many arguments for \"ParserBase\"\u001b[0m\u001b[0;34m\u001b[0m\u001b[0;34m\u001b[0m\u001b[0;34m\u001b[0m\u001b[0m\n\u001b[0;32m-> 1040\u001b[0;31m         \u001b[0;32mreturn\u001b[0m \u001b[0mmapping\u001b[0m\u001b[0;34m[\u001b[0m\u001b[0mengine\u001b[0m\u001b[0;34m]\u001b[0m\u001b[0;34m(\u001b[0m\u001b[0mself\u001b[0m\u001b[0;34m.\u001b[0m\u001b[0mf\u001b[0m\u001b[0;34m,\u001b[0m \u001b[0;34m**\u001b[0m\u001b[0mself\u001b[0m\u001b[0;34m.\u001b[0m\u001b[0moptions\u001b[0m\u001b[0;34m)\u001b[0m  \u001b[0;31m# type: ignore[call-arg]\u001b[0m\u001b[0;34m\u001b[0m\u001b[0;34m\u001b[0m\u001b[0m\n\u001b[0m\u001b[1;32m   1041\u001b[0m \u001b[0;34m\u001b[0m\u001b[0m\n\u001b[1;32m   1042\u001b[0m     \u001b[0;32mdef\u001b[0m \u001b[0m_failover_to_python\u001b[0m\u001b[0;34m(\u001b[0m\u001b[0mself\u001b[0m\u001b[0;34m)\u001b[0m\u001b[0;34m:\u001b[0m\u001b[0;34m\u001b[0m\u001b[0;34m\u001b[0m\u001b[0m\n",
            "\u001b[0;32m/usr/local/lib/python3.7/dist-packages/pandas/io/parsers/c_parser_wrapper.py\u001b[0m in \u001b[0;36m__init__\u001b[0;34m(self, src, **kwds)\u001b[0m\n\u001b[1;32m     49\u001b[0m \u001b[0;34m\u001b[0m\u001b[0m\n\u001b[1;32m     50\u001b[0m         \u001b[0;31m# open handles\u001b[0m\u001b[0;34m\u001b[0m\u001b[0;34m\u001b[0m\u001b[0;34m\u001b[0m\u001b[0m\n\u001b[0;32m---> 51\u001b[0;31m         \u001b[0mself\u001b[0m\u001b[0;34m.\u001b[0m\u001b[0m_open_handles\u001b[0m\u001b[0;34m(\u001b[0m\u001b[0msrc\u001b[0m\u001b[0;34m,\u001b[0m \u001b[0mkwds\u001b[0m\u001b[0;34m)\u001b[0m\u001b[0;34m\u001b[0m\u001b[0;34m\u001b[0m\u001b[0m\n\u001b[0m\u001b[1;32m     52\u001b[0m         \u001b[0;32massert\u001b[0m \u001b[0mself\u001b[0m\u001b[0;34m.\u001b[0m\u001b[0mhandles\u001b[0m \u001b[0;32mis\u001b[0m \u001b[0;32mnot\u001b[0m \u001b[0;32mNone\u001b[0m\u001b[0;34m\u001b[0m\u001b[0;34m\u001b[0m\u001b[0m\n\u001b[1;32m     53\u001b[0m \u001b[0;34m\u001b[0m\u001b[0m\n",
            "\u001b[0;32m/usr/local/lib/python3.7/dist-packages/pandas/io/parsers/base_parser.py\u001b[0m in \u001b[0;36m_open_handles\u001b[0;34m(self, src, kwds)\u001b[0m\n\u001b[1;32m    227\u001b[0m             \u001b[0mmemory_map\u001b[0m\u001b[0;34m=\u001b[0m\u001b[0mkwds\u001b[0m\u001b[0;34m.\u001b[0m\u001b[0mget\u001b[0m\u001b[0;34m(\u001b[0m\u001b[0;34m\"memory_map\"\u001b[0m\u001b[0;34m,\u001b[0m \u001b[0;32mFalse\u001b[0m\u001b[0;34m)\u001b[0m\u001b[0;34m,\u001b[0m\u001b[0;34m\u001b[0m\u001b[0;34m\u001b[0m\u001b[0m\n\u001b[1;32m    228\u001b[0m             \u001b[0mstorage_options\u001b[0m\u001b[0;34m=\u001b[0m\u001b[0mkwds\u001b[0m\u001b[0;34m.\u001b[0m\u001b[0mget\u001b[0m\u001b[0;34m(\u001b[0m\u001b[0;34m\"storage_options\"\u001b[0m\u001b[0;34m,\u001b[0m \u001b[0;32mNone\u001b[0m\u001b[0;34m)\u001b[0m\u001b[0;34m,\u001b[0m\u001b[0;34m\u001b[0m\u001b[0;34m\u001b[0m\u001b[0m\n\u001b[0;32m--> 229\u001b[0;31m             \u001b[0merrors\u001b[0m\u001b[0;34m=\u001b[0m\u001b[0mkwds\u001b[0m\u001b[0;34m.\u001b[0m\u001b[0mget\u001b[0m\u001b[0;34m(\u001b[0m\u001b[0;34m\"encoding_errors\"\u001b[0m\u001b[0;34m,\u001b[0m \u001b[0;34m\"strict\"\u001b[0m\u001b[0;34m)\u001b[0m\u001b[0;34m,\u001b[0m\u001b[0;34m\u001b[0m\u001b[0;34m\u001b[0m\u001b[0m\n\u001b[0m\u001b[1;32m    230\u001b[0m         )\n\u001b[1;32m    231\u001b[0m \u001b[0;34m\u001b[0m\u001b[0m\n",
            "\u001b[0;32m/usr/local/lib/python3.7/dist-packages/pandas/io/common.py\u001b[0m in \u001b[0;36mget_handle\u001b[0;34m(path_or_buf, mode, encoding, compression, memory_map, is_text, errors, storage_options)\u001b[0m\n\u001b[1;32m    705\u001b[0m                 \u001b[0mencoding\u001b[0m\u001b[0;34m=\u001b[0m\u001b[0mioargs\u001b[0m\u001b[0;34m.\u001b[0m\u001b[0mencoding\u001b[0m\u001b[0;34m,\u001b[0m\u001b[0;34m\u001b[0m\u001b[0;34m\u001b[0m\u001b[0m\n\u001b[1;32m    706\u001b[0m                 \u001b[0merrors\u001b[0m\u001b[0;34m=\u001b[0m\u001b[0merrors\u001b[0m\u001b[0;34m,\u001b[0m\u001b[0;34m\u001b[0m\u001b[0;34m\u001b[0m\u001b[0m\n\u001b[0;32m--> 707\u001b[0;31m                 \u001b[0mnewline\u001b[0m\u001b[0;34m=\u001b[0m\u001b[0;34m\"\"\u001b[0m\u001b[0;34m,\u001b[0m\u001b[0;34m\u001b[0m\u001b[0;34m\u001b[0m\u001b[0m\n\u001b[0m\u001b[1;32m    708\u001b[0m             )\n\u001b[1;32m    709\u001b[0m         \u001b[0;32melse\u001b[0m\u001b[0;34m:\u001b[0m\u001b[0;34m\u001b[0m\u001b[0;34m\u001b[0m\u001b[0m\n",
            "\u001b[0;31mFileNotFoundError\u001b[0m: [Errno 2] No such file or directory: 'github'"
          ]
        }
      ],
      "source": [
        "pd.read_csv(\"github\")"
      ]
    },
    {
      "cell_type": "code",
      "execution_count": 99,
      "metadata": {
        "id": "ccNBKgVlWJH-"
      },
      "outputs": [],
      "source": [
        "import requests\n",
        "from bs4 import BeautifulSoup\n",
        "\n",
        "def get_topics_page():\n",
        "    # TODO - add comments\n",
        "    topics_url = 'https://github.com/topics'\n",
        "    response = requests.get(topics_url)\n",
        "    if response.status_code != 200:\n",
        "        raise Exception('Failed to load page {}'.format(topics_url))\n",
        "    doc = BeautifulSoup(response.text, 'html.parser')\n",
        "    return doc"
      ]
    },
    {
      "cell_type": "code",
      "execution_count": 100,
      "metadata": {
        "id": "ccAiL-vPWRf8"
      },
      "outputs": [],
      "source": [
        "doc = get_topics_page()"
      ]
    },
    {
      "cell_type": "code",
      "execution_count": 101,
      "metadata": {
        "id": "DzTAm1XQWX3l"
      },
      "outputs": [],
      "source": [
        "def get_topic_titles(doc):\n",
        "    selection_class = 'f3 lh-condensed mb-0 mt-1 Link--primary'\n",
        "    topic_title_tags = doc.find_all('p', {'class': selection_class})\n",
        "    topic_titles = []\n",
        "    for tag in topic_title_tags:\n",
        "        topic_titles.append(tag.text)\n",
        "    return topic_titles"
      ]
    },
    {
      "cell_type": "code",
      "execution_count": 102,
      "metadata": {
        "id": "JdyA_LJrWcpN"
      },
      "outputs": [],
      "source": [
        "titles = get_topic_titles(doc)"
      ]
    },
    {
      "cell_type": "code",
      "execution_count": 103,
      "metadata": {
        "id": "LKOLpzyVWhDb"
      },
      "outputs": [],
      "source": [
        "def get_topic_descs(doc):\n",
        "    desc_selector = 'f5 color-fg-muted mb-0 mt-1'\n",
        "    topic_desc_tags = doc.find_all('p', {'class': desc_selector})\n",
        "    topic_descs = []\n",
        "    for tag in topic_desc_tags:\n",
        "        topic_descs.append(tag.text.strip())\n",
        "    return topic_descs"
      ]
    },
    {
      "cell_type": "code",
      "execution_count": 104,
      "metadata": {
        "id": "fT9W4bONWtfF"
      },
      "outputs": [],
      "source": [
        "def get_topic_urls(doc):\n",
        "    topic_link_tags = doc.find_all('a', {'class': 'no-underline flex-1 d-flex flex-column'})\n",
        "    topic_urls = []\n",
        "    base_url = 'https://github.com'\n",
        "    for tag in topic_link_tags:\n",
        "        topic_urls.append(base_url + tag['href'])\n",
        "    return topic_urls"
      ]
    },
    {
      "cell_type": "code",
      "execution_count": 104,
      "metadata": {
        "id": "6Ij_MCx6W2dE"
      },
      "outputs": [],
      "source": []
    },
    {
      "cell_type": "code",
      "execution_count": 105,
      "metadata": {
        "id": "I4uUmIy0wHZ5"
      },
      "outputs": [],
      "source": [
        "def scrape_topics():\n",
        "    topics_url = 'https://github.com/topics'\n",
        "    response = requests.get(topics_url)\n",
        "    if response.status_code != 200:\n",
        "        raise Exception('Failed to load page {}'.format(topic_url))\n",
        "    doc = BeautifulSoup(response.text, 'html.parser')\n",
        "    topics_dict = {\n",
        "        'title': get_topic_titles(doc),\n",
        "        'description': get_topic_descs(doc),\n",
        "        'url': get_topic_urls(doc)\n",
        "    }\n",
        "    return pd.DataFrame(topics_dict)"
      ]
    },
    {
      "cell_type": "code",
      "execution_count": 106,
      "metadata": {
        "colab": {
          "base_uri": "https://localhost:8080/"
        },
        "id": "HSve7lxkW3nI",
        "outputId": "aa74b7c9-f8c4-4b9a-ee6a-a5a4f62e96ab"
      },
      "outputs": [
        {
          "data": {
            "text/plain": [
              "['3D',\n",
              " 'Ajax',\n",
              " 'Algorithm',\n",
              " 'Amp',\n",
              " 'Android',\n",
              " 'Angular',\n",
              " 'Ansible',\n",
              " 'API',\n",
              " 'Arduino',\n",
              " 'ASP.NET',\n",
              " 'Atom',\n",
              " 'Awesome Lists',\n",
              " 'Amazon Web Services',\n",
              " 'Azure',\n",
              " 'Babel',\n",
              " 'Bash',\n",
              " 'Bitcoin',\n",
              " 'Bootstrap',\n",
              " 'Bot',\n",
              " 'C',\n",
              " 'Chrome',\n",
              " 'Chrome extension',\n",
              " 'Command line interface',\n",
              " 'Clojure',\n",
              " 'Code quality',\n",
              " 'Code review',\n",
              " 'Compiler',\n",
              " 'Continuous integration',\n",
              " 'COVID-19',\n",
              " 'C++']"
            ]
          },
          "execution_count": 106,
          "metadata": {},
          "output_type": "execute_result"
        }
      ],
      "source": [
        "titles"
      ]
    },
    {
      "cell_type": "code",
      "execution_count": 107,
      "metadata": {
        "id": "ftCL_J9HXUeN"
      },
      "outputs": [],
      "source": [
        "def get_topic_page(topic_url):\n",
        "    # Download the page\n",
        "    response = requests.get(topic_url)\n",
        "    # Check successful response\n",
        "    if response.status_code != 200:\n",
        "        raise Exception('Failed to load page {}'.format(topic_url))\n",
        "    # Parse using Beautiful soup\n",
        "    topic_doc = BeautifulSoup(response.text, 'html.parser')\n",
        "    return topic_doc"
      ]
    },
    {
      "cell_type": "code",
      "execution_count": 108,
      "metadata": {
        "id": "V73B10OnZ6NO"
      },
      "outputs": [],
      "source": [
        "doc = get_topic_page('https://github.com/topics/3d')"
      ]
    },
    {
      "cell_type": "code",
      "execution_count": 109,
      "metadata": {
        "id": "sOXupWVDaAuV"
      },
      "outputs": [],
      "source": [
        "def parse_star_count(stars):\n",
        "    stars=stars.strip()\n",
        "    if stars[-1]=='k':\n",
        "        return int(float(stars[:-1])*1000)\n",
        "    return(int(stars))"
      ]
    },
    {
      "cell_type": "code",
      "execution_count": 110,
      "metadata": {
        "id": "te8N-lCRbn3d"
      },
      "outputs": [],
      "source": [
        "def get_repo_info(h1_tag, star_tag):\n",
        "    # returns all the required info about a repository\n",
        "    a_tags = h1_tag.find_all('a')\n",
        "    username = a_tags[0].text.strip()\n",
        "    repo_name = a_tags[1].text.strip()\n",
        "    repo_url =  base_url + a_tags[1]['href']\n",
        "    stars = parse_star_count(star_tag.text.strip())\n",
        "    return username, repo_name, stars, repo_url"
      ]
    },
    {
      "cell_type": "code",
      "execution_count": 111,
      "metadata": {
        "id": "hJEUDNh3bqPG"
      },
      "outputs": [],
      "source": [
        "def get_topic_repos(topic_doc):\n",
        "    # Get the h1 tags containing repo title, repo URL and username\n",
        "    repo_tags = topic_doc.find_all('article',{'class':'border rounded color-shadow-small color-bg-subtle my-4'})\n",
        "\n",
        "    # Get star tags\n",
        "    star_tags=topic_doc.find_all('span',{'id':'repo-stars-counter-star'})\n",
        "    \n",
        "    topic_repos_dict = { 'username': [], 'repo_name': [], 'stars': [],'repo_url': []}\n",
        "\n",
        "    # Get repo info\n",
        "    for i in range(len(repo_tags)):\n",
        "        repo_info = get_repo_info(repo_tags[i], star_tags[i])\n",
        "        topic_repos_dict['username'].append(repo_info[0])\n",
        "        topic_repos_dict['repo_name'].append(repo_info[1])\n",
        "        topic_repos_dict['stars'].append(repo_info[2])\n",
        "        topic_repos_dict['repo_url'].append(repo_info[3])\n",
        "        \n",
        "    return pd.DataFrame(topic_repos_dict)"
      ]
    },
    {
      "cell_type": "code",
      "execution_count": null,
      "metadata": {
        "id": "SBL8rR4wgYSm"
      },
      "outputs": [],
      "source": []
    },
    {
      "cell_type": "code",
      "execution_count": 112,
      "metadata": {
        "id": "a5IDebfJbwFW"
      },
      "outputs": [],
      "source": [
        "def scrape_topic(topic_url, path):\n",
        "    if os.path.exists(path):\n",
        "        print(\"The file {} already exists. Skipping...\".format(path))\n",
        "        return\n",
        "    topic_df = get_topic_repos(get_topic_page(topic_url))\n",
        "    topic_df.to_csv(path, index=None)"
      ]
    },
    {
      "cell_type": "code",
      "execution_count": 113,
      "metadata": {
        "id": "FwyXzsr2b2a3"
      },
      "outputs": [],
      "source": [
        "import os\n",
        "def scrape_topics_repos():\n",
        "    print('Scraping list of topics')\n",
        "    topics_df = scrape_topics()\n",
        "    \n",
        "    os.makedirs('data', exist_ok=True)\n",
        "    for index, row in topics_df.iterrows():\n",
        "        print('Scraping top repositories for \"{}\"'.format(row['title']))\n",
        "        scrape_topic(row['url'], 'data/{}.csv'.format(row['title']))"
      ]
    },
    {
      "cell_type": "code",
      "execution_count": 114,
      "metadata": {
        "colab": {
          "base_uri": "https://localhost:8080/"
        },
        "id": "2HR4Z60tb8Po",
        "outputId": "fe731ff9-6f3e-4641-f876-aa199a22bfb3"
      },
      "outputs": [
        {
          "name": "stdout",
          "output_type": "stream",
          "text": [
            "Scraping list of topics\n",
            "Scraping top repositories for \"3D\"\n",
            "Scraping top repositories for \"Ajax\"\n",
            "Scraping top repositories for \"Algorithm\"\n",
            "Scraping top repositories for \"Amp\"\n",
            "Scraping top repositories for \"Android\"\n",
            "Scraping top repositories for \"Angular\"\n",
            "Scraping top repositories for \"Ansible\"\n",
            "Scraping top repositories for \"API\"\n",
            "Scraping top repositories for \"Arduino\"\n",
            "Scraping top repositories for \"ASP.NET\"\n",
            "Scraping top repositories for \"Atom\"\n",
            "Scraping top repositories for \"Awesome Lists\"\n",
            "Scraping top repositories for \"Amazon Web Services\"\n",
            "Scraping top repositories for \"Azure\"\n",
            "Scraping top repositories for \"Babel\"\n",
            "Scraping top repositories for \"Bash\"\n",
            "Scraping top repositories for \"Bitcoin\"\n",
            "Scraping top repositories for \"Bootstrap\"\n",
            "Scraping top repositories for \"Bot\"\n",
            "Scraping top repositories for \"C\"\n",
            "Scraping top repositories for \"Chrome\"\n",
            "Scraping top repositories for \"Chrome extension\"\n",
            "Scraping top repositories for \"Command line interface\"\n",
            "Scraping top repositories for \"Clojure\"\n",
            "Scraping top repositories for \"Code quality\"\n",
            "Scraping top repositories for \"Code review\"\n",
            "Scraping top repositories for \"Compiler\"\n",
            "Scraping top repositories for \"Continuous integration\"\n",
            "Scraping top repositories for \"COVID-19\"\n",
            "Scraping top repositories for \"C++\"\n"
          ]
        }
      ],
      "source": [
        "scrape_topics_repos()"
      ]
    },
    {
      "cell_type": "code",
      "execution_count": null,
      "metadata": {
        "id": "ysfeax0RcwHR"
      },
      "outputs": [],
      "source": []
    }
  ],
  "metadata": {
    "colab": {
      "authorship_tag": "ABX9TyOqMCGt5abr0c9EJ8A0Wo+q",
      "collapsed_sections": [],
      "include_colab_link": true,
      "provenance": []
    },
    "kernelspec": {
      "display_name": "Python 3.10.6 64-bit",
      "language": "python",
      "name": "python3"
    },
    "language_info": {
      "name": "python",
      "version": "3.10.6"
    },
    "vscode": {
      "interpreter": {
        "hash": "3b7d32af1e689683b59f84af5e00ff8511e054604b74fc1830ce1b819250cf76"
      }
    }
  },
  "nbformat": 4,
  "nbformat_minor": 0
}
