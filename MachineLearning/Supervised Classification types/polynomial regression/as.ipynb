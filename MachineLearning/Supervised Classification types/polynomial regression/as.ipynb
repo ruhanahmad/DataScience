{
 "cells": [
  {
   "cell_type": "code",
   "execution_count": 2,
   "metadata": {},
   "outputs": [
    {
     "ename": "AttributeError",
     "evalue": "'LinearRegression' object has no attribute 'fit_transform'",
     "output_type": "error",
     "traceback": [
      "\u001b[1;31m---------------------------------------------------------------------------\u001b[0m",
      "\u001b[1;31mAttributeError\u001b[0m                            Traceback (most recent call last)",
      "\u001b[1;32md:\\pythonkachilla\\MachineLearning\\Supervised Classification types\\polynomial regression\\as.ipynb Cell 1\u001b[0m in \u001b[0;36m<cell line: 21>\u001b[1;34m()\u001b[0m\n\u001b[0;32m     <a href='vscode-notebook-cell:/d%3A/pythonkachilla/MachineLearning/Supervised%20Classification%20types/polynomial%20regression/as.ipynb#ch0000000?line=18'>19</a>\u001b[0m     plt\u001b[39m.\u001b[39mshow()\n\u001b[0;32m     <a href='vscode-notebook-cell:/d%3A/pythonkachilla/MachineLearning/Supervised%20Classification%20types/polynomial%20regression/as.ipynb#ch0000000?line=19'>20</a>\u001b[0m     \u001b[39mreturn\u001b[39;00m\n\u001b[1;32m---> <a href='vscode-notebook-cell:/d%3A/pythonkachilla/MachineLearning/Supervised%20Classification%20types/polynomial%20regression/as.ipynb#ch0000000?line=20'>21</a>\u001b[0m viz_polynomial()\n",
      "\u001b[1;32md:\\pythonkachilla\\MachineLearning\\Supervised Classification types\\polynomial regression\\as.ipynb Cell 1\u001b[0m in \u001b[0;36mviz_polynomial\u001b[1;34m()\u001b[0m\n\u001b[0;32m     <a href='vscode-notebook-cell:/d%3A/pythonkachilla/MachineLearning/Supervised%20Classification%20types/polynomial%20regression/as.ipynb#ch0000000?line=12'>13</a>\u001b[0m \u001b[39mdef\u001b[39;00m \u001b[39mviz_polynomial\u001b[39m():\n\u001b[0;32m     <a href='vscode-notebook-cell:/d%3A/pythonkachilla/MachineLearning/Supervised%20Classification%20types/polynomial%20regression/as.ipynb#ch0000000?line=13'>14</a>\u001b[0m     plt\u001b[39m.\u001b[39mscatter(X,y,color\u001b[39m=\u001b[39m\u001b[39m\"\u001b[39m\u001b[39mred\u001b[39m\u001b[39m\"\u001b[39m)\n\u001b[1;32m---> <a href='vscode-notebook-cell:/d%3A/pythonkachilla/MachineLearning/Supervised%20Classification%20types/polynomial%20regression/as.ipynb#ch0000000?line=14'>15</a>\u001b[0m     plt\u001b[39m.\u001b[39mplot(X,poly_reg\u001b[39m.\u001b[39mpredict(poly_reg\u001b[39m.\u001b[39;49mfit_transform(X)),color \u001b[39m=\u001b[39m \u001b[39m\"\u001b[39m\u001b[39mblue\u001b[39m\u001b[39m\"\u001b[39m)\n\u001b[0;32m     <a href='vscode-notebook-cell:/d%3A/pythonkachilla/MachineLearning/Supervised%20Classification%20types/polynomial%20regression/as.ipynb#ch0000000?line=15'>16</a>\u001b[0m     plt\u001b[39m.\u001b[39mtitle(\u001b[39m\"\u001b[39m\u001b[39mTruth or Bluff Linear Regression\u001b[39m\u001b[39m\"\u001b[39m)\n\u001b[0;32m     <a href='vscode-notebook-cell:/d%3A/pythonkachilla/MachineLearning/Supervised%20Classification%20types/polynomial%20regression/as.ipynb#ch0000000?line=16'>17</a>\u001b[0m     plt\u001b[39m.\u001b[39mxlabel(\u001b[39m\"\u001b[39m\u001b[39mPosition Level\u001b[39m\u001b[39m\"\u001b[39m)\n",
      "\u001b[1;31mAttributeError\u001b[0m: 'LinearRegression' object has no attribute 'fit_transform'"
     ]
    },
    {
     "data": {
      "image/png": "[encoded data removed]",
      "text/plain": [
       "<Figure size 432x288 with 1 Axes>"
      ]
     },
     "metadata": {
      "needs_background": "light"
     },
     "output_type": "display_data"
    }
   ],
   "source": [
    "\n",
    "import pandas as pd\n",
    "import numpy as np\n",
    "import matplotlib.pyplot as plt\n",
    "dataset = pd.read_csv('https://s3.us-west-2.amazonaws.com/public.gamelab.fun/dataset/position_salaries.csv')\n",
    "X = dataset.iloc[:, 1:2].values\n",
    "y = dataset.iloc[:, 2].values\n",
    "from sklearn.preprocessing import PolynomialFeatures\n",
    "from sklearn.linear_model import LinearRegression\n",
    "poly_reg = PolynomialFeatures(degree=4)\n",
    "X_poly = poly_reg.fit_transform(X)\n",
    "poly_reg = LinearRegression()\n",
    "poly_reg.fit(X_poly,y)\n",
    "def viz_polynomial():\n",
    "    plt.scatter(X,y,color=\"red\")\n",
    "    plt.plot(X,poly_reg.predict(poly_reg.fit_transform(X)),color = \"blue\")\n",
    "    plt.title(\"Truth or Bluff Linear Regression\")\n",
    "    plt.xlabel(\"Position Level\")\n",
    "    plt.ylabel(\"Salary\")\n",
    "    plt.show()\n",
    "    return\n",
    "viz_polynomial()"
   ]
  },
  {
   "cell_type": "code",
   "execution_count": null,
   "metadata": {},
   "outputs": [],
   "source": []
  }
 ],
 "metadata": {
  "kernelspec": {
   "display_name": "Python 3.9.12 ('base')",
   "language": "python",
   "name": "python3"
  },
  "language_info": {
   "codemirror_mode": {
    "name": "ipython",
    "version": 3
   },
   "file_extension": ".py",
   "mimetype": "text/x-python",
   "name": "python",
   "nbconvert_exporter": "python",
   "pygments_lexer": "ipython3",
   "version": "3.9.12"
  },
  "orig_nbformat": 4,
  "vscode": {
   "interpreter": {
    "hash": "8744c0a46b53967583aeb20bbd4a7c51e28cea940260bbd3c64e499da934cd88"
   }
  }
 },
 "nbformat": 4,
 "nbformat_minor": 2
}
