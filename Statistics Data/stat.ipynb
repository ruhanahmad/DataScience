{
 "cells": [
  {
   "cell_type": "markdown",
   "metadata": {},
   "source": [
    "# Statistics\n"
   ]
  },
  {
   "cell_type": "code",
   "execution_count": 1,
   "metadata": {},
   "outputs": [
    {
     "name": "stdout",
     "output_type": "stream",
     "text": [
      "Requirement already satisfied: scipy in c:\\users\\biscode\\anaconda3\\lib\\site-packages (1.7.3)\n",
      "Requirement already satisfied: numpy<1.23.0,>=1.16.5 in c:\\users\\biscode\\anaconda3\\lib\\site-packages (from scipy) (1.21.5)\n",
      "Note: you may need to restart the kernel to use updated packages.\n"
     ]
    }
   ],
   "source": [
    "pip install scipy"
   ]
  },
  {
   "cell_type": "code",
   "execution_count": 2,
   "metadata": {},
   "outputs": [],
   "source": [
    "from scipy.stats import shapiro\n",
    "data = [0.77,0.123,-0.345,-0.055,2.177,0.334,-0.233]\n",
    "stat ,p = shapiro(data)"
   ]
  },
  {
   "cell_type": "code",
   "execution_count": 5,
   "metadata": {},
   "outputs": [
    {
     "name": "stdout",
     "output_type": "stream",
     "text": [
      "0.8210210204124451\n",
      "0.06568620353937149\n",
      "The data is Normalises\n"
     ]
    }
   ],
   "source": [
    "print(stat)\n",
    "print(p)\n",
    "if p > 0.05 :\n",
    "    print(\"The data is Normalises\")\n",
    "else:\n",
    "    print(\"The data is not Gassiuan\")\n"
   ]
  },
  {
   "cell_type": "code",
   "execution_count": 6,
   "metadata": {},
   "outputs": [
    {
     "name": "stderr",
     "output_type": "stream",
     "text": [
      "c:\\Users\\Biscode\\anaconda3\\lib\\site-packages\\seaborn\\_decorators.py:36: FutureWarning: Pass the following variable as a keyword arg: x. From version 0.12, the only valid positional argument will be `data`, and passing other arguments without an explicit keyword will result in an error or misinterpretation.\n",
      "  warnings.warn(\n"
     ]
    },
    {
     "data": {
      "text/plain": [
       "<AxesSubplot:xlabel='age'>"
      ]
     },
     "execution_count": 6,
     "metadata": {},
     "output_type": "execute_result"
    },
    {
     "data": {
      "image/png": "[encoded data removed]",
      "text/plain": [
       "<Figure size 432x288 with 1 Axes>"
      ]
     },
     "metadata": {
      "needs_background": "light"
     },
     "output_type": "display_data"
    }
   ],
   "source": [
    "import numpy as np\n",
    "import pandas as pd\n",
    "import matplotlib.pyplot as plt\n",
    "import seaborn as sns\n",
    "\n",
    "ks= sns.load_dataset(\"titanic\")\n",
    "sns.boxplot(ks['age'])"
   ]
  },
  {
   "cell_type": "code",
   "execution_count": 7,
   "metadata": {},
   "outputs": [
    {
     "name": "stdout",
     "output_type": "stream",
     "text": [
      "nan\n",
      "1.0\n",
      "The data is Normalises\n"
     ]
    }
   ],
   "source": [
    "from scipy.stats import shapiro\n",
    "data = [0.77,0.123,-0.345,-0.055,2.177,0.334,-0.233]\n",
    "stat ,p = shapiro(ks['age'])\n",
    "print(stat)\n",
    "print(p)\n",
    "if p > 0.05 :\n",
    "    print(\"The data is Normalises\")\n",
    "else:\n",
    "    print(\"The data is not Gassiuan\")"
   ]
  },
  {
   "cell_type": "code",
   "execution_count": 8,
   "metadata": {},
   "outputs": [
    {
     "name": "stdout",
     "output_type": "stream",
     "text": [
      "0.5218914747238159\n",
      "1.0789998175301091e-43\n",
      "The data is not Gassiuan\n"
     ]
    }
   ],
   "source": [
    "from scipy.stats import shapiro\n",
    "\n",
    "stat ,p = shapiro(ks['fare'])\n",
    "print(stat)\n",
    "print(p)\n",
    "if p > 0.05 :\n",
    "    print(\"The data is Normalises\")\n",
    "else:\n",
    "    print(\"The data is not Gassiuan\")"
   ]
  },
  {
   "cell_type": "code",
   "execution_count": 14,
   "metadata": {},
   "outputs": [
    {
     "name": "stderr",
     "output_type": "stream",
     "text": [
      "c:\\Users\\Biscode\\anaconda3\\lib\\site-packages\\seaborn\\_decorators.py:36: FutureWarning: Pass the following variable as a keyword arg: x. From version 0.12, the only valid positional argument will be `data`, and passing other arguments without an explicit keyword will result in an error or misinterpretation.\n",
      "  warnings.warn(\n"
     ]
    },
    {
     "data": {
      "text/plain": [
       "<AxesSubplot:xlabel='fare'>"
      ]
     },
     "execution_count": 14,
     "metadata": {},
     "output_type": "execute_result"
    },
    {
     "data": {
      "image/png": "[encoded data removed]",
      "text/plain": [
       "<Figure size 432x288 with 1 Axes>"
      ]
     },
     "metadata": {
      "needs_background": "light"
     },
     "output_type": "display_data"
    }
   ],
   "source": [
    "\n",
    "ks= sns.load_dataset(\"titanic\")\n",
    "ks = ks.dropna()\n",
    "sns.boxplot(ks['fare'])"
   ]
  },
  {
   "cell_type": "code",
   "execution_count": 15,
   "metadata": {},
   "outputs": [
    {
     "name": "stdout",
     "output_type": "stream",
     "text": [
      "0.7430527806282043\n",
      "1.6486823985903073e-16\n",
      "The data is not Gassiuan\n"
     ]
    }
   ],
   "source": [
    "from scipy.stats import shapiro\n",
    "\n",
    "stat ,p = shapiro(ks['fare'])\n",
    "print(stat)\n",
    "print(p)\n",
    "if p > 0.05 :\n",
    "    print(\"The data is Normalises\")\n",
    "else:\n",
    "    print(\"The data is not Gassiuan\")"
   ]
  },
  {
   "cell_type": "code",
   "execution_count": 17,
   "metadata": {},
   "outputs": [
    {
     "name": "stderr",
     "output_type": "stream",
     "text": [
      "c:\\Users\\Biscode\\anaconda3\\lib\\site-packages\\seaborn\\_decorators.py:36: FutureWarning: Pass the following variable as a keyword arg: x. From version 0.12, the only valid positional argument will be `data`, and passing other arguments without an explicit keyword will result in an error or misinterpretation.\n",
      "  warnings.warn(\n"
     ]
    },
    {
     "data": {
      "text/plain": [
       "<AxesSubplot:xlabel='age'>"
      ]
     },
     "execution_count": 17,
     "metadata": {},
     "output_type": "execute_result"
    },
    {
     "data": {
      "image/png": "[encoded data removed]",
      "text/plain": [
       "<Figure size 432x288 with 1 Axes>"
      ]
     },
     "metadata": {
      "needs_background": "light"
     },
     "output_type": "display_data"
    }
   ],
   "source": [
    "import numpy as np\n",
    "import pandas as pd\n",
    "import matplotlib.pyplot as plt\n",
    "import seaborn as sns\n",
    "\n",
    "ks= sns.load_dataset(\"titanic\")\n",
    "ks = ks.dropna()\n",
    "sns.boxplot(ks['age'])"
   ]
  },
  {
   "cell_type": "markdown",
   "metadata": {},
   "source": [
    "# Now the boxplot is ,data is normalised.See above"
   ]
  },
  {
   "cell_type": "markdown",
   "metadata": {},
   "source": [
    "# Correlation"
   ]
  },
  {
   "cell_type": "code",
   "execution_count": 25,
   "metadata": {},
   "outputs": [
    {
     "name": "stdout",
     "output_type": "stream",
     "text": [
      "-0.07258447372826443\n",
      "0.3301774806884409\n",
      "The data is Normalises\n"
     ]
    }
   ],
   "source": [
    "from scipy.stats import spearmanr\n",
    "\n",
    "stat ,p = spearmanr(ks['fare'],ks['age'])\n",
    "print(stat)\n",
    "print(p)\n",
    "if p > 0.05 :\n",
    "    print(\"The data is Normalises\")\n",
    "else:\n",
    "    print(\"The data is not Gassiuan\")"
   ]
  },
  {
   "cell_type": "markdown",
   "metadata": {},
   "source": [
    "# Chi- squared"
   ]
  },
  {
   "cell_type": "code",
   "execution_count": 27,
   "metadata": {},
   "outputs": [
    {
     "name": "stdout",
     "output_type": "stream",
     "text": [
      "0.27157465150403504\n",
      "0.873028283380073\n",
      "2\n",
      "[[10.43478261 18.91304348 30.65217391]\n",
      " [ 5.56521739 10.08695652 16.34782609]]\n",
      "The data is Normalises\n"
     ]
    }
   ],
   "source": [
    "from scipy.stats import chi2_contingency\n",
    "table = [[10,20,30],[6,9,17]]\n",
    "stat ,p ,dof,expected= chi2_contingency(table)\n",
    "print(stat)\n",
    "print(p)\n",
    "print(dof)\n",
    "print(expected)\n",
    "if p > 0.05 :\n",
    "    print(\"The data is Normalises\")\n",
    "else:\n",
    "    print(\"The data is not Gassiuan\")"
   ]
  },
  {
   "cell_type": "markdown",
   "metadata": {},
   "source": [
    "# Parametic Statistical Hypothess Test\n",
    "## Student t-test\n",
    "### check if mean is statistically different"
   ]
  },
  {
   "cell_type": "code",
   "execution_count": 30,
   "metadata": {},
   "outputs": [
    {
     "name": "stdout",
     "output_type": "stream",
     "text": [
      "-0.32820304547728607\n",
      "0.7484140985556704\n",
      "The data is Normalises\n"
     ]
    }
   ],
   "source": [
    "from scipy.stats import ttest_ind\n",
    "data1 = [0.77,0.123,-0.345,-0.055,2.177,0.334,-0.233]\n",
    "data2 = [0.177,0.123,0.435,0.345,2.342,0.532,-0.143]\n",
    "\n",
    "stat ,p = ttest_ind(data1,data2)\n",
    "print(stat)\n",
    "print(p)\n",
    "\n",
    "if p > 0.05 :\n",
    "    print(\"The data is Normalises\")\n",
    "else:\n",
    "    print(\"The data is not Gassiuan\")"
   ]
  },
  {
   "cell_type": "markdown",
   "metadata": {},
   "source": [
    "# Paired Student T test"
   ]
  },
  {
   "cell_type": "code",
   "execution_count": 31,
   "metadata": {},
   "outputs": [
    {
     "name": "stdout",
     "output_type": "stream",
     "text": [
      "-0.32820304547728607\n",
      "0.7484140985556704\n",
      "The data is Normalises\n"
     ]
    }
   ],
   "source": [
    "from scipy.stats import ttest_rel\n",
    "data1 = [0.77,0.123,-0.345,-0.055,2.177,0.334,-0.233]\n",
    "data2 = [0.177,0.123,0.435,0.345,2.342,0.532,-0.143]\n",
    "\n",
    "stat ,p = ttest_ind(data1,data2)\n",
    "print(stat)\n",
    "print(p)\n",
    "\n",
    "if p > 0.05 :\n",
    "    print(\"The data is Normalises\")\n",
    "else:\n",
    "    print(\"The data is not Gassiuan\")"
   ]
  },
  {
   "cell_type": "markdown",
   "metadata": {},
   "source": [
    "# Anova Test"
   ]
  },
  {
   "cell_type": "code",
   "execution_count": 37,
   "metadata": {},
   "outputs": [
    {
     "name": "stdout",
     "output_type": "stream",
     "text": [
      "stat=0.044, p =0.957\n",
      "0.9570383642565267\n",
      "0.04401909951600245\n",
      "The data is Normalises\n"
     ]
    }
   ],
   "source": [
    "from scipy.stats import f_oneway\n",
    "data1 = [0.77,0.343,-0.32445,-0.215,2.177,0.334,-0.233]\n",
    "data2 = [0.1557,0.123,0.435,0.345,2.342,0.532,-0.143]\n",
    "data3 = [0.1234,0.1003,0.322,0.122,2.342,0.532,-0.143]\n",
    "\n",
    "stat ,p = f_oneway(data1,data2,data3)\n",
    "\n",
    "print('stat=%.3f, p =%.3f' % (stat,p))\n",
    "print(p)\n",
    "print(stat)\n",
    "\n",
    "if p > 0.05 :\n",
    "    print(\"The data is Normalises\")\n",
    "else:\n",
    "    print(\"The data is not Gassiuan\")"
   ]
  },
  {
   "cell_type": "code",
   "execution_count": null,
   "metadata": {},
   "outputs": [],
   "source": []
  }
 ],
 "metadata": {
  "kernelspec": {
   "display_name": "Python 3.9.12 ('base')",
   "language": "python",
   "name": "python3"
  },
  "language_info": {
   "codemirror_mode": {
    "name": "ipython",
    "version": 3
   },
   "file_extension": ".py",
   "mimetype": "text/x-python",
   "name": "python",
   "nbconvert_exporter": "python",
   "pygments_lexer": "ipython3",
   "version": "3.9.12"
  },
  "orig_nbformat": 4,
  "vscode": {
   "interpreter": {
    "hash": "8744c0a46b53967583aeb20bbd4a7c51e28cea940260bbd3c64e499da934cd88"
   }
  }
 },
 "nbformat": 4,
 "nbformat_minor": 2
}
